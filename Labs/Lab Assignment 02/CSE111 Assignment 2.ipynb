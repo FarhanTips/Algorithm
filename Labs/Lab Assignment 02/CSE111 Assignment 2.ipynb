{
 "cells": [
  {
   "cell_type": "markdown",
   "metadata": {
    "id": "h3OmqtvtK0Xa"
   },
   "source": [
    "### **Function**"
   ]
  },
  {
   "cell_type": "markdown",
   "metadata": {
    "id": "s5aLbEiDKY3z"
   },
   "source": [
    "**Task 1**\n",
    "\n",
    "Write a function which will return the fraction part after dividing a number by another. The range should be within 0 and 1. Exception: Since dividing anything by 0 results in error so if the denominator is 0, the function will return 0 instead of attempting the division.\n",
    "\n",
    "**Sample Input:**\n",
    "\n",
    "(5, 2)\n",
    "\n",
    "(5, 0)\n",
    "\n",
    "(0, 5)\n",
    "\n",
    "**Sample Output:**\n",
    "\n",
    "0.5\n",
    "\n",
    "0\n",
    "\n",
    "0"
   ]
  },
  {
   "cell_type": "code",
   "execution_count": 56,
   "metadata": {
    "id": "_2CDOGZnKysf"
   },
   "outputs": [
    {
     "name": "stdout",
     "output_type": "stream",
     "text": [
      "Enter a number:5\n",
      "Enter a number:2\n",
      "0.5\n"
     ]
    }
   ],
   "source": [
    "fn=int(input(\"Enter a number:\"))\n",
    "ln=int(input(\"Enter a number:\"))\n",
    "def function(x,y):\n",
    "    if x==0 or y==0:\n",
    "        print(0)\n",
    "    else:\n",
    "        print((x/y)-(x//y))\n",
    "function(fn,ln)"
   ]
  },
  {
   "cell_type": "markdown",
   "metadata": {
    "id": "8krchO86K6V_"
   },
   "source": [
    "**Task 2**\n",
    "\n",
    "You are one of the gym instructors at AmiKenoMota. You decide to provide a customized diet and exercise plans based on the BMI of an individual. You measure the weight in kilograms and height in meters and calculate the BMI before a plan can be decided. Write a BMI function that takes in two values, weight in kg and height in cm and print the score along with the condition. (Make sure to convert cm into m before calculation)\n",
    "BMI(height, weight)\n",
    "\n",
    "                      𝐵𝑀𝐼=𝑘𝑔/m^2\n",
    "\n",
    "Based on the BMI score return the following output.\n",
    "\n",
    "\n",
    "*   < 18.5- Underweight\n",
    "*   18.5 - 24.9 - Normal\n",
    "*   25 -30 - Overweight\n",
    "*   > 30 – Obese\n",
    "\n",
    "**Sample Input:**\n",
    "\n",
    "(175, 96)\n",
    "\n",
    "(152, 48)\n",
    "\n",
    "**Sample Output:**\n",
    "\n",
    "Score is 31.3. You are Obese\n",
    "\n",
    "Score is 20.8. You are Normal\n",
    "\n",
    "\n",
    "\n",
    "\n"
   ]
  },
  {
   "cell_type": "code",
   "execution_count": 24,
   "metadata": {
    "id": "3Vh2yH-HL5Ni"
   },
   "outputs": [
    {
     "name": "stdout",
     "output_type": "stream",
     "text": [
      "Enter your height in cm:152\n",
      "Enter your weight in KG:48\n",
      "Score is 20.8. You are Normal\n"
     ]
    }
   ],
   "source": [
    "ht=float(input(\"Enter your height in cm:\"))\n",
    "wt=float(input(\"Enter your weight in KG:\"))\n",
    "def AmiKenoMota(x,y):\n",
    "    x=x/100\n",
    "    BMI=y/(x)**2\n",
    "    s=\"Score is {0:3.1f}. \".format(BMI)\n",
    "    print(s,end=\"\")\n",
    "    if BMI<18.5:\n",
    "        print(\"You are Underweight\")\n",
    "    elif 18.5<=BMI<=24.9:\n",
    "        print(\"You are Normal\")\n",
    "    elif 25<=BMI<30:\n",
    "        print(\"You are Overweight\")\n",
    "    elif 30<BMI:\n",
    "        print(\"You are Obese\")\n",
    "AmiKenoMota(ht,wt)"
   ]
  },
  {
   "cell_type": "markdown",
   "metadata": {
    "id": "C-wADFktL5sp"
   },
   "source": [
    "**Task 3**\n",
    "\n",
    "Write a function which will take 3 arguments minimum, maximum and divisor. You have to find all the numbers that are divisible by the divisor where minimum value is inclusive and maximum value is exclusive. Add all the numbers and return the value.\n",
    "\n",
    "**Sample Input:**\n",
    "\n",
    "(0, 10, 2)\n",
    "\n",
    "(3, 16, 3)\n",
    "\n",
    "**Sample Output:**\n",
    "\n",
    "20\n",
    "\n",
    "45"
   ]
  },
  {
   "cell_type": "code",
   "execution_count": 31,
   "metadata": {
    "id": "VTtsEG4UMQlL"
   },
   "outputs": [
    {
     "name": "stdout",
     "output_type": "stream",
     "text": [
      "Enter minimum numnber:3\n",
      "Enter maximum numbert:16\n",
      "Enter divisor number:3\n",
      "45\n"
     ]
    }
   ],
   "source": [
    "min=int(input(\"Enter minimum numnber:\"))\n",
    "max=int(input(\"Enter maximum numbert:\"))\n",
    "div=int(input(\"Enter divisor number:\"))\n",
    "def count(x,y,z):\n",
    "    sum=0\n",
    "    for i in range(x,y):\n",
    "        if i%z==0:\n",
    "            sum=sum+i\n",
    "    return sum\n",
    "print(count(min,max,div))"
   ]
  },
  {
   "cell_type": "markdown",
   "metadata": {
    "id": "sk93JRfLMQ8U"
   },
   "source": [
    "**Task 4**\n",
    "\n",
    "You want to order Burger from Chillox through the FoodPanda App. You have to calculate the total price. Write a function which will take the name of the burger and place(Mohakhali/Outside of Mohakhali) as input. Use default argument technique for taking place input.\n",
    "\n",
    "                          Menu                                      Price(Tk)\n",
    "                          BBQ Chicken Cheese Burger                 250\n",
    "                          Beef Burger                               170\n",
    "                          Naga Drums                                200\n",
    "\n",
    "Hint: Total Price = meal_cost + delivery_charge + tax\n",
    "\n",
    "Note that:\n",
    "\n",
    "\n",
    "*   If your home is in Mohakhali area then your delivery charge is 40 taka else 60 taka\n",
    "*   Your tax rate is 8% of your meal.\n",
    "\n",
    "**Sample Input:**\n",
    "\n",
    "(‘Beef Burger’, ‘Dhanmondi’) \n",
    "\n",
    "(‘Beef Burger’)\n",
    "\n",
    "**Sample Output:**\n",
    "\n",
    "243.6\n",
    "\n",
    "223.6\n",
    "\n"
   ]
  },
  {
   "cell_type": "code",
   "execution_count": 6,
   "metadata": {
    "id": "xPi-kC4INHIT"
   },
   "outputs": [
    {
     "name": "stdout",
     "output_type": "stream",
     "text": [
      "Enter food name:Beef Burger\n",
      "Enter location\n",
      "223.6\n"
     ]
    }
   ],
   "source": [
    "s=input(\"Enter food name:\")\n",
    "b=input(\"Enter location\")\n",
    "def panda(x,y=\"Mohakhali\"):\n",
    "    dict={\"BBQ Chicken Cheese Burger\":250,\"Beef Burger\":170,\"Naga Drums\":200}\n",
    "    sum=0\n",
    "    for k,v in dict.items():\n",
    "        if x==k:\n",
    "            sum=sum+v\n",
    "    sum=sum+(sum/100)*8\n",
    "    if y==\"Mohakhali\" or y==\"\":\n",
    "        sum=sum+40\n",
    "    else:\n",
    "        sum=sum+60\n",
    "    print(sum)\n",
    "panda(s,b)\n"
   ]
  },
  {
   "cell_type": "markdown",
   "metadata": {
    "id": "hjcas5sQNK6F"
   },
   "source": [
    "**Task 5**\n",
    "\n",
    "A company named Sheba.xyz has recently moved from their old domain to a new domain. However, a lot of the company email addresses are still using the old one. Write a function in python that replaces this old domain with the new one in any outdated email addresses. Keep same if the email address contains the new domain. (Do not use builtin replace function)\n",
    "\n",
    "Firstly, define a “replace_domain” function which accepts three parameters\n",
    "\n",
    "\n",
    "*   The email address to be checked\n",
    "*   The new domain\n",
    "*   The old domain (Use Default argument technique to handle this)\n",
    "\n",
    "**Sample Input:**\n",
    "\n",
    "(‘alice@kaaj.com’, ‘sheba.xyz’, ‘kaaj.com’) \n",
    "\n",
    "(‘bob@sheba.xyz’, ‘sheba.xyz’)\n",
    "\n",
    "**Sample Output:**\n",
    "\n",
    "Changed: alice@sheba.xyz \n",
    "\n",
    "Unchanged: bob@sheba.xyz\n",
    "\n"
   ]
  },
  {
   "cell_type": "code",
   "execution_count": 16,
   "metadata": {
    "id": "Zv6GY7sdNqFW"
   },
   "outputs": [
    {
     "name": "stdout",
     "output_type": "stream",
     "text": [
      "Unchanged: Farhan@brac.com\n"
     ]
    }
   ],
   "source": [
    "def Change_domain(x,y,z=\"Kaaj.com\"):\n",
    "    for i in range(len(x)):\n",
    "        if x[i]==\"@\":\n",
    "            anka=i\n",
    "    au=x[anka+1::1]\n",
    "    if au==y:\n",
    "        print(\"Unchanged:\",x)\n",
    "   \n",
    "    elif au==z:\n",
    "        print(\"Changed:\",x[0:anka+1]+y)\n",
    "Change_domain(\"Farhan@brac.com\",\"brac.com\")"
   ]
  },
  {
   "cell_type": "markdown",
   "metadata": {
    "id": "Amcu57wmNqil"
   },
   "source": [
    "**Task 6**\n",
    "\n",
    "Write a function which takes only your full name as input and finds the total number of vowels in that input. Output every vowel and at the end output the total number of vowels found. If your name does not contain any vowel then your function should print “No vowels in the name!”.\n",
    "\n",
    "**Sample Input:** \n",
    "\n",
    "(Steve Jobs) \n",
    "\n",
    "(XYZ)\n",
    "\n",
    "**Sample Output:**\n",
    "\n",
    "Vowels: e, e, o. Total number of vowels: 3 \n",
    "\n",
    "No vowels in the name"
   ]
  },
  {
   "cell_type": "code",
   "execution_count": 1,
   "metadata": {
    "id": "zjarnimEN6uc"
   },
   "outputs": [
    {
     "name": "stdout",
     "output_type": "stream",
     "text": [
      "Enter your full name:Steve Jobs\n",
      "Vowels: e,e,o. Total number of vowels: 3\n"
     ]
    }
   ],
   "source": [
    "name=input(\"Enter your full name:\")\n",
    "name=name.lower()\n",
    "def find_vowel(x):\n",
    "\n",
    "    count=0\n",
    "    vow=\"Vowels: \"\n",
    "    v=[\"a\",\"e\",\"i\",\"o\",\"u\"]\n",
    "    for i in name:\n",
    "        if i in v:\n",
    "            vow=vow+i+\",\"\n",
    "            count=count+1\n",
    "    if count!=0:\n",
    "        print(vow,end=\"\")\n",
    "        print(\"\\b.\",end=\" \")\n",
    "        print(\"Total number of vowels:\",count)\n",
    "\n",
    "    else:\n",
    "        print(\"No Vowels in the name\")\n",
    "find_vowel(name)"
   ]
  },
  {
   "cell_type": "markdown",
   "metadata": {
    "id": "qspwBMQUN7Df"
   },
   "source": [
    "**Task 7**\n",
    "\n",
    "Write a program which checks whether a given string is a palindrome or not. Note: A palindrome is a word, phrase, or sequence that reads the same backward as forward. For palindrome, any spaces in middle are not considered and should be trimmed.\n",
    "\n",
    "**Sample Input:**\n",
    "\n",
    "‘madam’ \n",
    "\n",
    "‘hello’ \n",
    "\n",
    "‘nurses run’\n",
    "\n",
    "**Sample Output:**\n",
    "\n",
    "Palindrome\n",
    "\n",
    "Not a palindrome \n",
    "\n",
    "Palindrome"
   ]
  },
  {
   "cell_type": "code",
   "execution_count": 28,
   "metadata": {
    "id": "RmI-JT6KOOoY"
   },
   "outputs": [
    {
     "name": "stdout",
     "output_type": "stream",
     "text": [
      "Enter a string:NurSes RUN\n",
      "Palindrome\n"
     ]
    }
   ],
   "source": [
    "s11=input(\"Enter a string:\")\n",
    "s=\"\"\n",
    "for i in s11:\n",
    "    if i!=\" \":\n",
    "        s=s+i.lower()\n",
    "s1=\"\"\n",
    "s2=\"\"\n",
    "for i in range(len(s)//2):\n",
    "    s1=s1+s[i]\n",
    "s2=s2+s[(len(s)//2)+1::1]\n",
    "#print(s1,s2)\n",
    "s2=list(s2)\n",
    "s1=list(s1)\n",
    "s1=sorted(s1)\n",
    "s2=sorted(s2)\n",
    "if s1==s2:\n",
    "    print(\"Palindrome\")\n",
    "else:\n",
    "    print(\"Not a Plaindrome\")"
   ]
  },
  {
   "cell_type": "markdown",
   "metadata": {
    "id": "tayj8HZqOO-3"
   },
   "source": [
    "**Task 8**\n",
    "\n",
    "Write a function which takes a number of days as input and prints total number of years, number of months and remaining number of days as output.\n",
    "\n",
    "**Sample Input:**\n",
    "\n",
    "(4320)\n",
    "\n",
    "(4000)\n",
    "\n",
    "**Sample Output:**\n",
    "\n",
    "11 years, 10 months and 5 days\n",
    "\n",
    "10 years, 11 months and 20 days"
   ]
  },
  {
   "cell_type": "code",
   "execution_count": 1,
   "metadata": {
    "id": "M4roJGNeOews"
   },
   "outputs": [
    {
     "name": "stdout",
     "output_type": "stream",
     "text": [
      "Enter a number:4000\n",
      "10 years, 11 months and 20 days\n"
     ]
    }
   ],
   "source": [
    "x=int(input(\"Enter a number:\"))\n",
    "def calculator(s):\n",
    "\n",
    "    year=s//365\n",
    "    s=s%365\n",
    "    month=s//30\n",
    "    s=s%30\n",
    "    day=s\n",
    "    print(year,\"years,\",month,\"months and\",day,\"days\")\n",
    "calculator(x)"
   ]
  },
  {
   "cell_type": "markdown",
   "metadata": {
    "id": "j6W_itwgOfPr"
   },
   "source": [
    "**Task 9**\n",
    "\n",
    "You are a class teacher at a kindergarten school. As a task, you asked your students to write a paragraph. Unfortunately, you notice that most of the students did not use capital letters correctly. Your task is to write a function which takes a string as its only parameter and returns a new copy of the string that has been correctly capitalized. Your function should:\n",
    "\n",
    "\n",
    "\n",
    "*   Capitalize the first letter in the string\n",
    "*   Capitalize the first letter after a full-stop, exclamation mark or question mark\n",
    "*   Capitalize the word “i” if it is in lowercase.\n",
    "\n",
    "Summary: You have to write a function that reads a string from the user and capitalizes. The string is then returned and displayed.\n",
    "\n",
    "**Sample Input:**\n",
    "\n",
    "('my favourite animal is a dog. a dog has sharp teeth so that it can eat flesh very easily. do you know my pet dog’s name? i love my pet very much.')\n",
    "\n",
    "**Sample Output:**\n",
    "\n",
    "My favourite animal is a dog. A dog has sharp teeth so that it can eat flesh very easily. Do you know my pet dog’s name? I love my pet very much.\n",
    "\n",
    "\n"
   ]
  },
  {
   "cell_type": "code",
   "execution_count": 1,
   "metadata": {
    "id": "72FMUbkZPE-O"
   },
   "outputs": [
    {
     "name": "stdout",
     "output_type": "stream",
     "text": [
      "Enter the text written by the student: my favourite animal is a dog. a dog has sharp teeth so that it can eat flesh very easily. do you know my pet dog’s name? i love my pet very much.\n",
      "Iy favourite animal is a dog. A dog has sharp teeth so that it can eat flesh very easily. Do you know my pet dog’s name? I love my pet very much.\n"
     ]
    }
   ],
   "source": [
    "\n"
   ]
  },
  {
   "cell_type": "code",
   "execution_count": 18,
   "metadata": {},
   "outputs": [
    {
     "name": "stdout",
     "output_type": "stream",
     "text": [
      "15\n"
     ]
    }
   ],
   "source": [
    "class data:\n",
    "    def __init__(self,x,y):\n",
    "        self.num=x+y\n",
    "        print(x+y)\n",
    "num=data(10,5)"
   ]
  },
  {
   "cell_type": "code",
   "execution_count": null,
   "metadata": {},
   "outputs": [],
   "source": []
  }
 ],
 "metadata": {
  "colab": {
   "collapsed_sections": [],
   "name": "Assignment2.ipynb",
   "provenance": []
  },
  "kernelspec": {
   "display_name": "Python 3",
   "language": "python",
   "name": "python3"
  },
  "language_info": {
   "codemirror_mode": {
    "name": "ipython",
    "version": 3
   },
   "file_extension": ".py",
   "mimetype": "text/x-python",
   "name": "python",
   "nbconvert_exporter": "python",
   "pygments_lexer": "ipython3",
   "version": "3.8.3"
  }
 },
 "nbformat": 4,
 "nbformat_minor": 1
}
