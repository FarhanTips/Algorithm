{
 "cells": [
  {
   "cell_type": "markdown",
   "metadata": {
    "id": "VfhEP3C98GOc"
   },
   "source": [
    "# **BRAC UNIVERSITY**\n",
    "\n",
    "# **CSE111 LAB Assignment 1**\n",
    "\n",
    "Student Name : **Farhan Akbor Khan**\n",
    "\n",
    "\n",
    "Student ID : **20301230**\n",
    "\n",
    "Dep : **CSE**\n",
    "\n",
    "CSE111 section : **06 (Fall 2020)**"
   ]
  },
  {
   "cell_type": "markdown",
   "metadata": {
    "id": "treUVkN68ahi"
   },
   "source": [
    "# **String**\n",
    "\n",
    "## **Task 1**\n",
    "\n",
    "From a given string, print the string in all uppercase if the number of uppercase letters is more than lowercase letters. Otherwise if lowercase is greater or equal to uppercase letters, print all lowercase. The inputs will contain letters (A-Z, a-z) only.\n",
    "\n",
    "**Sample Input 1 :** HOusE\n",
    "\n",
    "**Sample Output 1 :** HOUSE\n",
    "\n",
    "**Sample Input 2 :** ApplE\n",
    "\n",
    "**Sample Output 2 :** apple\n",
    "\n",
    "**Sample Input 3 :** BaNaNa\n",
    "\n",
    "**Sample Output 3 :** banana"
   ]
  },
  {
   "cell_type": "code",
   "execution_count": 1,
   "metadata": {
    "id": "hjrjee9j9FoQ"
   },
   "outputs": [
    {
     "name": "stdout",
     "output_type": "stream",
     "text": [
      "Enter a string: BaNaNa\n",
      "banana\n"
     ]
    }
   ],
   "source": [
    "s=input(\"Enter a string: \")\n",
    "up=\"\"\n",
    "lp=\"\"\n",
    "for i in s:\n",
    "    if 97<=ord(i)<=122:\n",
    "        lp=lp+i\n",
    "    if 65<=ord(i)<=90:\n",
    "        up=up+i\n",
    "if len(up)>len(lp):\n",
    "    print(s.upper())\n",
    "else:\n",
    "    print(s.lower())"
   ]
  },
  {
   "cell_type": "markdown",
   "metadata": {
    "id": "2ZuKFMKS9Gv6"
   },
   "source": [
    "## **Task 2**\n",
    "\n",
    "Given a string, print whether it is a number, word or mixed with digit and letters. If all the characters are numeric values, print NUMBER. If they are all letters, print WORD. If it is mixed, print MIXED.\n",
    "\n",
    "**Sample Input 1 :**  213213\n",
    "\n",
    "**Sample Output 1 :** NUMBER\n",
    "\n",
    "**Sample Input 2 :** jhg231j213\n",
    "\n",
    "**Sample Output 2 :** MIXED\n",
    "\n",
    "**Sample Input 3 :** Hello\n",
    "\n",
    "**Sample Output 3 :** WORD"
   ]
  },
  {
   "cell_type": "code",
   "execution_count": 4,
   "metadata": {
    "id": "cK08Zq3h9a2f"
   },
   "outputs": [
    {
     "name": "stdout",
     "output_type": "stream",
     "text": [
      "Enter a string: hyefhy777f\n",
      "MIXED\n"
     ]
    }
   ],
   "source": [
    "s=input(\"Enter a string: \")\n",
    "s11=\"\"\n",
    "s12=\"\"\n",
    "for i in s:\n",
    "    if 65<=ord(i)<=122:\n",
    "        s11=s11+i\n",
    "    else:\n",
    "        s12=s12+i\n",
    "if s11!=\"\" and s12!=\"\":\n",
    "    print(\"MIXED\")\n",
    "elif s12==\"\":\n",
    "    print(\"WORD\")\n",
    "elif s12!=\"\":\n",
    "    print(\"NUMBER\")"
   ]
  },
  {
   "cell_type": "markdown",
   "metadata": {
    "id": "8SBQWthY9f85"
   },
   "source": [
    "## **Task 3**\n",
    "\n",
    "In a given string, there will be two uppercase letters in between some lowercase letters. Print the substring from the first uppercase letter to the last uppercase letter excluding them. If there are no letters in between them, print the word BLANK. It is guaranteed that there will be only two uppercase letters in the string.\n",
    "\n",
    "**Sample Input 1 :** baNglaEsh\n",
    "\n",
    "***Sample Output 1 :*** glad\n",
    "\n",
    "**Sasmple Input 2 :** coDIng\n",
    "\n",
    "**Sample Output 2 :** BLANK"
   ]
  },
  {
   "cell_type": "code",
   "execution_count": 6,
   "metadata": {
    "id": "PeaiRHu29znh"
   },
   "outputs": [
    {
     "name": "stdout",
     "output_type": "stream",
     "text": [
      "Enter a string: coDuInjj\n",
      "u\n"
     ]
    }
   ],
   "source": [
    "s=input(\"Enter a string: \")\n",
    "fn=\"\"\n",
    "\n",
    "for i in range(len(s)):\n",
    "    if 65<=ord(s[i])<=90:\n",
    "        fn=fn+str(i)\n",
    "if (s[int(fn[0])+1:int(fn[1])])==\"\":\n",
    "    print(\"BLANK\")\n",
    "else:\n",
    "    print(s[int(fn[0])+1:int(fn[1])])"
   ]
  },
  {
   "cell_type": "markdown",
   "metadata": {
    "id": "GH5g-aCq90RX"
   },
   "source": [
    "## **Task 4**\n",
    "\n",
    "Write a Python program to find the first appearance of the substring 'too' and 'good' from a given string. If 'too' follows the 'good', replace the whole 'too'' good' substring with 'excellent' and print the resulting string. If the above does not appear, print the string as it is.\n",
    "\n",
    "**Sample Input 1 :** The book is not too good!\n",
    "\n",
    "**Sample Output 1 :** The book is not excellent!\n",
    "\n",
    "**Sample Input 2 :** This book is good too!\n",
    "\n",
    "**Sample Output 2 :** This book is good too!"
   ]
  },
  {
   "cell_type": "code",
   "execution_count": 3,
   "metadata": {
    "id": "eJPXY4Td-B4F"
   },
   "outputs": [
    {
     "name": "stdout",
     "output_type": "stream",
     "text": [
      "4 5\n",
      "The book is not excellent! "
     ]
    }
   ],
   "source": [
    "s=\"The book is not too good!\"\n",
    "ti=\"\"\n",
    "gi=\"\"\n",
    "v=(s.split())\n",
    "#print(v)\n",
    "for i in range(len(v)):\n",
    "    if v[i]==\"too\" or v[i]==\"too\"+s[-1]:\n",
    "        ti=ti+str(i)\n",
    "    elif v[i]==\"good\"+s[-1] or v[i]==\"good\":\n",
    "        gi=gi+str(i)\n",
    "print(ti,gi)\n",
    "if ti<gi:\n",
    "    vu = (v[0:int(ti)] + [\"excellent\"+s[-1]])\n",
    "    for i in vu:\n",
    "        print(i,end=\" \")\n",
    "elif ti>gi:\n",
    "    print(s)\n",
    "\n",
    "\n",
    "#Alternative way\n",
    "#s=\"The book is not good!\"\n",
    "#ti=s.replace(\"too good\",\"excelent\")\n",
    "#print(ti)\n",
    "\n",
    "#Alternative way 2\n",
    "#a=\"The book is not too good!\"\n",
    "#s=a.split(\" \")\n",
    "#if s[-2]==\"too\" and s[-1]==\"good!\":\n",
    "    #print(a[0:-9],end=\"\")\n",
    "   # print(\"excellent!\")\n",
    "#else:\n",
    "    #print(a)"
   ]
  },
  {
   "cell_type": "markdown",
   "metadata": {
    "id": "zCkQbHt_-GQP"
   },
   "source": [
    "## **Task 5**\n",
    "\n",
    "Create a string from two given strings by concatenating common characters of the given strings.\n",
    "\n",
    "**Sample Input 1 :** harry, hermione\n",
    "\n",
    "**Sample Output 1 :** hrrhr\n",
    "\n",
    "**Sample Input 2 :** dean, tom\n",
    "\n",
    "**Sample Output 2 :** Nothing in common.\n"
   ]
  },
  {
   "cell_type": "code",
   "execution_count": 13,
   "metadata": {
    "id": "ZbY7qbmh-gMj"
   },
   "outputs": [
    {
     "name": "stdout",
     "output_type": "stream",
     "text": [
      "Enter first string: dean\n",
      "Enter second string: tom\n",
      "Nothing in common\n"
     ]
    }
   ],
   "source": [
    "s=input(\"Enter first string: \")\n",
    "b=input(\"Enter second string: \")\n",
    "c=\"\"\n",
    "for i in s:\n",
    "    if i in b:\n",
    "        c=c+i\n",
    "for i in b:\n",
    "    if i in s:\n",
    "        c=c+i\n",
    "if c==\"\":\n",
    "    print(\"Nothing in common\")\n",
    "elif c!=\"\":\n",
    "    print(c)"
   ]
  },
  {
   "cell_type": "markdown",
   "metadata": {
    "id": "W73B8dYt-gie"
   },
   "source": [
    "## **Task 6**\n",
    "\n",
    "Again you have lost your USIS password!! You went to the registrar office and requested for a new password. This time, you need to follow some rules to set your password. Otherwise, they won't change it. The rules are\n",
    "\n",
    "\n",
    "\n",
    "*   At least one lowercase letter\n",
    "*   At least one uppercase letter\n",
    "\n",
    "\n",
    "*   At least one digit (0-9)\n",
    "*   At least one special character (_ , $ , #, @)\n",
    "\n",
    "\n",
    "\n",
    "\n",
    "Your task is to find whether a given password follows all those rules. If it breaks any rule, you have to print Lowercase Missing, Uppercase Missing, Digit Missing or Special Missing respective to the missing case. For more than one rule break, print all the rules that were broken (order doesn't matter). If the password is ok, Print OK.\n",
    "\n",
    "**Sample Input 1 :** ohMyBR@CU\n",
    "\n",
    "**Sample Output 1 :** Digit missing\n",
    "\n",
    "**Sample Input 2 :** ohmybracu\n",
    "\n",
    "**Sample Output 2 :** Uppercase character missing, Digit missing, Special character missing\n",
    "\n",
    "**Sample Input 3 :** OhMyBR@CU20\n",
    "\n",
    "**Sample Output 3 :** OK"
   ]
  },
  {
   "cell_type": "code",
   "execution_count": 1,
   "metadata": {
    "id": "O2G-WNQW_Xrq"
   },
   "outputs": [
    {
     "name": "stdout",
     "output_type": "stream",
     "text": [
      "Enter password: ohmybracu\n",
      "Uppercase character missing,Digit missing,Special character missing\n"
     ]
    }
   ],
   "source": [
    "\n",
    "s=input(\"Enter password: \")\n",
    "lw=\"\"\n",
    "up=\"\"\n",
    "dg=\"\"\n",
    "sp=\"\"\n",
    "for i in s:\n",
    "    if 97<=ord(i)<=122:\n",
    "        lw=lw+i\n",
    "    elif 65<=ord(i)<=90:\n",
    "        up=up+i\n",
    "    elif \"0\"<=i<=\"9\":\n",
    "        dg=dg+i\n",
    "    elif i==\"_\" or i==\"$\" or i==\"#\" or i==\"@\":\n",
    "        sp=sp+i\n",
    "if lw==\"\":\n",
    "    print(\"Lower character missing\",end=\",\")\n",
    "if up==\"\":\n",
    "    print(\"Uppercase character missing\",end=\",\")\n",
    "if dg==\"\":\n",
    "    print(\"Digit missing\",end=\",\")\n",
    "if sp==\"\":\n",
    "    print(\"Special character missing\",end=\",\")\n",
    "if lw!=\"\" and up!=\"\" and dg!=\"\" and sp!=\"\":\n",
    "    print(\"OK\")\n",
    "print(\"\\b\")"
   ]
  },
  {
   "cell_type": "markdown",
   "metadata": {
    "id": "wMemAj0L_aKy"
   },
   "source": [
    "# **List**\n",
    "## **Task 1**\n",
    "\n",
    "Write a python program which prints the frequency of the numbers that were given as input by the user. Stop taking input when you find the string “STOP”. **Do not print the frequency of numbers that were not given as input.**\n",
    "\n",
    "**Sample Input 1 :**\n",
    "\n",
    "[10 , 20 , 20 , 30 , 10 , 50 , 90 , STOP]\n",
    "\n",
    "**Sample Output 1 :**\n",
    "\n",
    "10 - 2 times\n",
    "\n",
    "20 - 2 times\n",
    "\n",
    "30 - 1 times\n",
    "\n",
    "50 - 1 times\n",
    "\n",
    "90 - 1 times"
   ]
  },
  {
   "cell_type": "code",
   "execution_count": 7,
   "metadata": {
    "id": "hu2v5zSZ_pON"
   },
   "outputs": [
    {
     "name": "stdout",
     "output_type": "stream",
     "text": [
      "Enter a number:10\n",
      "Enter a number:20\n",
      "Enter a number:20\n",
      "Enter a number:30\n",
      "Enter a number:10\n",
      "Enter a number:50\n",
      "Enter a number:90\n",
      "Enter a number:STOP\n",
      "10 - 2 times\n",
      "20 - 2 times\n",
      "30 - 1 times\n",
      "50 - 1 times\n",
      "90 - 1 times\n"
     ]
    }
   ],
   "source": [
    "n=1\n",
    "zum=[]\n",
    "while n>0:\n",
    "    s = input(\"Enter a number:\")\n",
    "    if s==\"STOP\":\n",
    "        break\n",
    "    else:\n",
    "\n",
    "        zum.append(s)\n",
    "\n",
    "c=[]\n",
    "for i in zum:\n",
    "    if i not in c:\n",
    "        c.append(i)\n",
    "for i in c:\n",
    "    x=zum.count(i)\n",
    "    print(i,\"-\",x,\"times\")"
   ]
  },
  {
   "cell_type": "markdown",
   "metadata": {
    "id": "9PjBLQZo_sUv"
   },
   "source": [
    "## **Task 2**\n",
    "\n",
    "Write a python program that calculates the sum of N given lists and prints the highest sum and its respective list. Input starts with N and followed by N lists.\n",
    "\n",
    "**Sample Input 1 :**\n",
    "\n",
    "list_one = [4]\n",
    "\n",
    "list_two = [1, 2, 3]\n",
    "\n",
    "list_three = [4, 5, 6]\n",
    "\n",
    "list_four = [10, 11, 12]\n",
    "\n",
    "list_five = [7, 8, 9]\n",
    "\n",
    "**Sample Output 1 :**\n",
    "\n",
    "33\n",
    "\n",
    "[10, 11, 12]"
   ]
  },
  {
   "cell_type": "code",
   "execution_count": 1,
   "metadata": {
    "id": "ytnVr9Jj_0d4"
   },
   "outputs": [
    {
     "name": "stdout",
     "output_type": "stream",
     "text": [
      "Enter how many lists you want:4\n",
      "Enter all elements by using space for this list:1 2 3\n",
      "Enter all elements by using space for this list:4 5 6\n",
      "Enter all elements by using space for this list:10 11 12\n",
      "Enter all elements by using space for this list:7 8 9\n",
      "33\n",
      "[10, 11, 12]\n"
     ]
    }
   ],
   "source": [
    "list=[]\n",
    "dic={}\n",
    "x=int(input(\"Enter how many lists you want:\"))\n",
    "for i in range(x):\n",
    "    lst=[]\n",
    "    s=(input(\"Enter all elements by using space for this list:\"))\n",
    "    s1=s.split(\" \")\n",
    "    vu=0\n",
    "    for i in s1:\n",
    "        vu=vu+int(i)\n",
    "        lst.append(int(i))\n",
    "    dic[vu]=lst\n",
    "    list.append(vu)\n",
    "list1=sorted(list,reverse=True)\n",
    "for k, j in dic.items():\n",
    "    if list1[0]==k:\n",
    "        print(k)\n",
    "        print(j)"
   ]
  },
  {
   "cell_type": "markdown",
   "metadata": {
    "id": "yuvlzKbw_1mO"
   },
   "source": [
    "## **Task 3**\n",
    "\n",
    "Write a python program that prints a list which contains cross multiplication between two given lists.\n",
    "\n",
    "**Sample Input 1 :**\n",
    "\n",
    "list_one = [2, 3, 6]\n",
    "\n",
    "list_two = [3, 4, 5]\n",
    "\n",
    "**Sample Output 1 :**\n",
    "\n",
    "[6, 8, 10, 9, 12, 15, 18, 24, 30]"
   ]
  },
  {
   "cell_type": "code",
   "execution_count": 2,
   "metadata": {
    "id": "_MHDo-n__-9n"
   },
   "outputs": [
    {
     "name": "stdout",
     "output_type": "stream",
     "text": [
      "[6, 8, 10, 9, 12, 15, 18, 24, 30]\n"
     ]
    }
   ],
   "source": [
    "new=[]\n",
    "s=[2,3,6]\n",
    "n=[3,4,5]\n",
    "for i in s:\n",
    "    for x in n:\n",
    "        new.append(i*x)\n",
    "print(new)"
   ]
  },
  {
   "cell_type": "markdown",
   "metadata": {
    "id": "Pd3DtEiNAAVH"
   },
   "source": [
    "## **Task 4**\n",
    "\n",
    "Let there are N numbers in a list and that list is said to be a UB Jumper if the absolute values of the difference between the successive elements take on all the values 1 through N − 1. For example, 2 1 4 6 10 is a UB Jumper because the absolute differences between them are 1 3 2 4 which is all numbers from 1 to (5 - 1) or 4. **Write a python program that takes a number sequence as input and prints whether it is a UB Jumper or Not UB Jumper. Input will stop after getting “STOP” as input.** (Number order or absolute difference order doesn’t follow any sequence.)\n",
    "\n",
    "**Sample Input:**\n",
    "\n",
    "1 4 2 3\n",
    "\n",
    "2 1 4 6 10\n",
    "\n",
    "1 4 2 -1 6\n",
    "\n",
    "STOP\n",
    "\n",
    "**Sample Output:**\n",
    "\n",
    "UB Jumper\n",
    "\n",
    "UB Jumper\n",
    "\n",
    "Not UB Jumper\n"
   ]
  },
  {
   "cell_type": "code",
   "execution_count": 13,
   "metadata": {
    "id": "w3xEZcHbASpB"
   },
   "outputs": [
    {
     "name": "stdout",
     "output_type": "stream",
     "text": [
      "Enter numbers for list using space:1 4 2 3\n",
      "[3, 2, 1]\n",
      "UB Jumper\n",
      "Enter numbers for list using space:2 1 4 6 10\n",
      "[1, 3, 2, 4]\n",
      "UB Jumper\n",
      "Enter numbers for list using space:1 4 2 -1 6\n",
      "[3, 2, 3, 7]\n",
      "Not UB Jumper\n",
      "Enter numbers for list using space:STOP\n"
     ]
    }
   ],
   "source": [
    "i=1\n",
    "while i>0:\n",
    "    s=(input(\"Enter numbers for list using space:\"))\n",
    "    if s==\"STOP\":\n",
    "        break\n",
    "    else:\n",
    "        s=s.split(\" \")\n",
    "        n = []\n",
    "        for i in range(len(s) - 1):\n",
    "            if (int(s[i]) - int(s[i + 1])) < 0:\n",
    "                n.append((int(s[i]) - int(s[i + 1])) * (-1))\n",
    "            else:\n",
    "                n.append((int(s[i]) - int(s[i + 1])))\n",
    "        print(n)\n",
    "        n1 = \"\"\n",
    "        for i in n:\n",
    "            if i > len(s) - 1:\n",
    "                n1 = n1 + str(i)\n",
    "        if n1 == \"\":\n",
    "            print(\"UB Jumper\")\n",
    "        else:\n",
    "            print(\"Not UB Jumper\")\n",
    "\n",
    "    i=+1"
   ]
  },
  {
   "cell_type": "markdown",
   "metadata": {
    "id": "ORBId1iHAYQN"
   },
   "source": [
    "## **Task 5**\n",
    "\n",
    "You are given a string that contains alphanumeric characters only. Your task is to sort the string in the following manner:\n",
    "\n",
    "a. All sorted lowercase letters are ahead of uppercase letters.\n",
    "\n",
    "b. All sorted uppercase letters are ahead of digits.\n",
    "\n",
    "c. All sorted odd digits are ahead of sorted even digits.\n",
    "\n",
    "**Sample Input 1 :** Bracu1234\n",
    "\n",
    "**sample Output 1 :** acruB1324"
   ]
  },
  {
   "cell_type": "code",
   "execution_count": 3,
   "metadata": {
    "id": "5azJTad-AhcX"
   },
   "outputs": [
    {
     "name": "stdout",
     "output_type": "stream",
     "text": [
      "Enter a string:Bracu1234\n",
      "acruB1324\n"
     ]
    }
   ],
   "source": [
    "s1=input(\"Enter a string:\")\n",
    "s=sorted(s1)\n",
    "\n",
    "lw=\"\"\n",
    "up=\"\"\n",
    "od=\"\"\n",
    "ed=\"\"\n",
    "for i in s:\n",
    "    if 97<=ord(i)<=122:\n",
    "        lw=lw+i\n",
    "    elif 65<=ord(i)<=90:\n",
    "        up=up+i\n",
    "    elif int(i)%2!=0:\n",
    "        od=od+i\n",
    "    else:\n",
    "        ed=ed+i\n",
    "print(lw+up+od+ed)"
   ]
  },
  {
   "cell_type": "markdown",
   "metadata": {
    "id": "Ps2ZqZcKAh8L"
   },
   "source": [
    "## **Task 6**\n",
    "\n",
    "BRACU has n students who are regular competitive programmers. According to the ACM ICPC rules, each person can participate in the regional championship at most 5 times.\n",
    "\n",
    "The head of the BRACU ACM Chapter is recently gathering teams to participate in this championship. Each team must consist of exactly three people, at that, any person cannot be a member of two or more teams. What maximum number of teams can the head make if he wants each team to participate in the world championship with the same members at least k times?\n",
    "\n",
    "The first line of input contains two integers, n and k. The next line contains n integers:y1, y2, ..., y n (0 ≤ yi ≤ 5), where y i shows the number of times the i-th person participated in the ACM ICPC Regional .\n",
    "\n",
    "**Write a python program that prints how many teams can be formed according to the above problem statement.**\n",
    "\n",
    "**Sample Input 1 :**\n",
    "\n",
    "5 2\n",
    "\n",
    "0 4 5 1 0\n",
    "\n",
    "**Sample Output 1 :** 1\n",
    "\n",
    "**Sample Input 2 :**\n",
    "\n",
    "6 4\n",
    "\n",
    "0 1 2 3 4 5\n",
    "\n",
    "**Sample Output 2 :** 0\n",
    "\n",
    "**Sample Input 3 :**\n",
    "\n",
    "6 5\n",
    "\n",
    "0 0 0 0 0 0\n",
    "\n",
    "**Sample Output 3 :** 2"
   ]
  },
  {
   "cell_type": "code",
   "execution_count": 6,
   "metadata": {
    "id": "UItaGsxTA2mN"
   },
   "outputs": [
    {
     "name": "stdout",
     "output_type": "stream",
     "text": [
      "Enter total member and atleast paricipation quantity using space:5 2\n",
      "Enter member's participation's quantity:0 4 5 1 0\n",
      "1\n"
     ]
    }
   ],
   "source": [
    "s=input(\"Enter total member and atleast paricipation quantity using space:\")\n",
    "s2=input(\"Enter member's participation's quantity:\")\n",
    "s2=s2.split(\" \")\n",
    "\n",
    "list=[]\n",
    "for i in s2:\n",
    "    list.append(5-int(i))\n",
    "\n",
    "vu=0\n",
    "for i in list:\n",
    "    if i>=int(s[-1]):\n",
    "        vu=vu+1\n",
    "print(vu//3)"
   ]
  },
  {
   "cell_type": "markdown",
   "metadata": {
    "id": "T2arxosXBAcu"
   },
   "source": [
    "# **Dictionary & Tuple**\n",
    "## **Task 1**\n",
    "\n",
    "Write a Python program to combine two dictionaries into one by adding values for common keys. Input contains two comma separated dictionaries. Print the new dictionary and create a tuple which contains unique values in sorted order.\n",
    "\n",
    "**Sample Input 1 :**\n",
    "\n",
    "a: 100, b: 100, c: 200, d: 300\n",
    "\n",
    "a: 300, b: 200, d: 400, e: 200\n",
    "\n",
    "**Sample Output 2 :**\n",
    "\n",
    "{ 'a': 400, 'b': 300, 'c': 200,'d': 700, 'e': 200}\n",
    "\n",
    "Values: (200, 300, 400, 700)"
   ]
  },
  {
   "cell_type": "code",
   "execution_count": 4,
   "metadata": {
    "id": "FH0BNa1qBOfs"
   },
   "outputs": [
    {
     "name": "stdout",
     "output_type": "stream",
     "text": [
      "Enter elements for dict1 using , between two elements:a:100,b:100,c:200,d:300\n",
      "Enter elements for dict2 using , between two elements:a:300,b:200,d:400,e:200\n",
      "{'a': 400, 'b': 300, 'c': 200, 'd': 700, 'e': 200}\n",
      "Values: (200, 300, 400, 700)\n"
     ]
    }
   ],
   "source": [
    "new={}\n",
    "dict1={}\n",
    "b=input(\"Enter elements for dict1 using , between two elements:\")\n",
    "b=b.split(\",\")\n",
    "for i in b:\n",
    "    s=i.split(\":\")\n",
    "    dict1[s[0]]=s[1]\n",
    "dict2={}\n",
    "b2=input(\"Enter elements for dict2 using , between two elements:\")\n",
    "b2=b2.split(\",\")\n",
    "for i in b2:\n",
    "    s2=i.split(\":\")\n",
    "    dict2[s2[0]]=s2[1]\n",
    "\n",
    "for i,v in dict1.items():\n",
    "    if i not in new:\n",
    "        new[i]=int(v)\n",
    "\n",
    "for i,v in dict2.items():\n",
    "    if i in new:\n",
    "        new[i]=new[i]+int(dict2[i])\n",
    "    elif i not in new:\n",
    "        new[i]=int(v)\n",
    "print(new)\n",
    "list=[]\n",
    "for i ,v in new.items():\n",
    "    if v not in list:\n",
    "        list.append(v)\n",
    "list1=sorted(list)\n",
    "tuple_file=tuple(list1)\n",
    "print(\"Values:\",tuple_file)"
   ]
  },
  {
   "cell_type": "markdown",
   "metadata": {
    "id": "sywFCWunBPCX"
   },
   "source": [
    "# **Task 2**\n",
    "\n",
    "Write a python program which prints the frequency of the numbers that were given as input by the user. Stop taking input when you find the string “STOP”. Do not print the frequency of numbers that were not given as input. **Use a dictionary to solve the problem**\n",
    "\n",
    "**Sample Input 1 :**\n",
    "\n",
    "10 \n",
    "\n",
    "20 \n",
    "\n",
    "20  \n",
    "\n",
    "30  \n",
    "\n",
    "10 \n",
    "\n",
    "50 \n",
    "\n",
    "90 \n",
    " \n",
    "STOP\n",
    "\n",
    "**Sample Output 2 :**\n",
    "\n",
    "10 - 2 times\n",
    "\n",
    "20 - 2 times\n",
    "\n",
    "30 - 1 times\n",
    "\n",
    "50 - 1 times\n",
    "\n",
    "90 - 1 times"
   ]
  },
  {
   "cell_type": "code",
   "execution_count": 6,
   "metadata": {
    "id": "rLFFnxFdBYpb"
   },
   "outputs": [
    {
     "name": "stdout",
     "output_type": "stream",
     "text": [
      "Enter a number:10\n",
      "Enter a number:20\n",
      "Enter a number:20\n",
      "Enter a number:30\n",
      "Enter a number:10\n",
      "Enter a number:50\n",
      "Enter a number:90\n",
      "Enter a number:STOP\n",
      "10 - 2 times\n",
      "20 - 2 times\n",
      "30 - 1 times\n",
      "50 - 1 times\n",
      "90 - 1 times\n"
     ]
    }
   ],
   "source": [
    "s=[]\n",
    "i=1\n",
    "while i>0:\n",
    "    inmp=(input(\"Enter a number:\"))\n",
    "    if inmp==\"STOP\":\n",
    "        break\n",
    "    else:\n",
    "        s.append(int(inmp))\n",
    "    i=+1\n",
    "\n",
    "dict={}\n",
    "for i in s:\n",
    "    if i not in dict:\n",
    "        dict[i]=1\n",
    "    else:\n",
    "        dict[i]=dict[i]+1\n",
    "#print(dict)\n",
    "for i ,v in dict.items():\n",
    "    print(i,\"-\",v,\"times\")"
   ]
  },
  {
   "cell_type": "markdown",
   "metadata": {
    "id": "SRFyVz_8BZ-z"
   },
   "source": [
    "# **Task 3**\n",
    "\n",
    "Write python code to invert a dictionary. It should print a dictionary where the keys are values from the input dictionary and the values are lists of keys from the input dictionary having the same value. **Make sure the program handles multiple same values.**\n",
    "\n",
    "**Sample Input 1 :**\n",
    "\n",
    "key1 : value1, key2 : value2, key3 : value1\n",
    "\n",
    "**Sample Output 2 :**\n",
    "\n",
    "{ \"value1\" : [\"key1\", \"key3\"], \"value2\" : [\"key2\"] }"
   ]
  },
  {
   "cell_type": "code",
   "execution_count": 5,
   "metadata": {
    "id": "eMB2TdgXBkUN"
   },
   "outputs": [
    {
     "name": "stdout",
     "output_type": "stream",
     "text": [
      "Enter how many elements you want in this dictionary:3\n",
      "Enter a key:key1\n",
      "Enter a number:value1\n",
      "Enter a key:key2\n",
      "Enter a number:value2\n",
      "Enter a key:key3\n",
      "Enter a number:value1\n",
      "{'value1': ['key1', 'key3'], 'value2': ['key2']}\n"
     ]
    }
   ],
   "source": [
    "f=int(input(\"Enter how many elements you want in this dictionary:\"))\n",
    "s={}\n",
    "for i in range(f):\n",
    "    k=input(\"Enter a key:\")\n",
    "    v=(input(\"Enter a number:\"))\n",
    "    s[k]=v\n",
    "n={}\n",
    "for i,v in s.items():\n",
    "    if v not in n:\n",
    "        n[v]=[i]\n",
    "    else:\n",
    "        n[v]=n[v]+[i]\n",
    "print(n)"
   ]
  },
  {
   "cell_type": "markdown",
   "metadata": {
    "id": "N6xRL0PpBkh5"
   },
   "source": [
    "## **Task 4**\n",
    "\n",
    "Two words are anagrams if they contain all of the same letters, but in a different order. For example, “evil” and “live” are anagrams because each contains one “e”, one “i”, one “l”, and one “v”.\n",
    "\n",
    "Write a program that reads two strings from the user and determines whether or not they are anagrams. **Use a dictionary to solve the problem.**\n",
    "\n",
    "**Sample Input 1 :**\n",
    "\n",
    "evil\n",
    "\n",
    "live\n",
    "\n",
    "**Sample Output 1 :**\n",
    "\n",
    "Those strings are anagrams."
   ]
  },
  {
   "cell_type": "code",
   "execution_count": 2,
   "metadata": {
    "id": "RxN4rBFpBuhP"
   },
   "outputs": [
    {
     "name": "stdout",
     "output_type": "stream",
     "text": [
      "Enter a string: evil\n",
      "Enter a string: live\n",
      "Those strings are anagrams.\n"
     ]
    }
   ],
   "source": [
    "dict2={}\n",
    "dict1={}\n",
    "s=input(\"Enter a string: \")\n",
    "s1=input(\"Enter a string: \")\n",
    "for i in s:\n",
    "    dict1[i]=i\n",
    "dict3=sorted(dict1)\n",
    "for i in s1:\n",
    "    dict2[i]=i\n",
    "dict4=sorted(dict2)\n",
    "if dict3==dict4:\n",
    "    print(\"Those strings are anagrams.\")\n",
    "else:\n",
    "    print(\"Those strings are not anagrams.\")\n",
    "#print(dict3,dict4)"
   ]
  },
  {
   "cell_type": "markdown",
   "metadata": {
    "id": "bxKEWkFtCX8H"
   },
   "source": [
    "## **Task 5**\n",
    "\n",
    "On some basic cell phones, text messages can be sent using the numeric keypad. Because each key has multiple letters associated with it, multiple key presses are needed for most letters. Pressing the number once generates the first character listed for that key. Pressing the number 2, 3, 4 or 5 times generates the second, third, fourth or fifth character.\n",
    "\n",
    "### **Key = Symbols** \n",
    "\n",
    "### **1  =  .,?!:** \n",
    "\n",
    "### **2 = ABC** \n",
    "\n",
    "### **3 = DEF** \n",
    "\n",
    "### **4 = GHI** \n",
    "\n",
    "### **5 = JKL** \n",
    "\n",
    "### **6 = MNO** \n",
    "\n",
    "### **7 = PQRS** \n",
    "\n",
    "### **8 = TUV**\n",
    "\n",
    "### **9 = WXYZ** \n",
    "\n",
    "### **0 = Space**\n",
    "\n",
    "Write a program that displays the key presses needed for a message entered by the user. Construct a dictionary that maps from each letter or symbol to the key presses needed to generate it. Then use the dictionary to create and display the presses needed for the user’s message.\n",
    "\n",
    "**Sample Input**\n",
    "\n",
    "Hello, World!\n",
    "\n",
    "**Sample Output**\n",
    "\n",
    "4433555555666110966677755531111"
   ]
  },
  {
   "cell_type": "code",
   "execution_count": 3,
   "metadata": {
    "id": "LzqNQgcGHfWF"
   },
   "outputs": [
    {
     "name": "stdout",
     "output_type": "stream",
     "text": [
      "Enter a string : Hello, World!\n",
      "4433555555666110966677755531111"
     ]
    }
   ],
   "source": [
    "inpu=input(\"Enter a string : \")\n",
    "string=inpu.lower()\n",
    "#print(string)\n",
    "h={\".\":1,\",\":11,\"?\":111,\"!\":1111,\":\":11111,\"a\":2,\"b\":22,\"c\":222,\"d\":3,\"e\":33,\"f\":333,\"g\":4,\"h\":44,\"i\":444,\"j\":5,\"k\":55,\n",
    "   \"l\":555,\"m\":6,\"n\":66,\"o\":666,\"p\":7,\"q\":77,\"r\":777,\"s\":7777,\"t\":8,\"u\":88,\"v\":888,\"w\":9,\"x\":99,\"y\":999,\"z\":9999,\" \":0}\n",
    "\n",
    "for i in string:\n",
    "    for key,value in h.items():\n",
    "        if i==key:\n",
    "            print(value,end=\"\")"
   ]
  },
  {
   "cell_type": "code",
   "execution_count": null,
   "metadata": {},
   "outputs": [],
   "source": []
  }
 ],
 "metadata": {
  "colab": {
   "collapsed_sections": [],
   "name": "Welcome To Colaboratory",
   "provenance": []
  },
  "kernelspec": {
   "display_name": "Python 3",
   "language": "python",
   "name": "python3"
  },
  "language_info": {
   "codemirror_mode": {
    "name": "ipython",
    "version": 3
   },
   "file_extension": ".py",
   "mimetype": "text/x-python",
   "name": "python",
   "nbconvert_exporter": "python",
   "pygments_lexer": "ipython3",
   "version": "3.8.3"
  }
 },
 "nbformat": 4,
 "nbformat_minor": 1
}
