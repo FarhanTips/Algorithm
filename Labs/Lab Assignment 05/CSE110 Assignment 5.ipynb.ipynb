{
 "cells": [
  {
   "cell_type": "markdown",
   "metadata": {},
   "source": [
    "# CSE110 Assignment 5\n",
    "This assignment is to guide you to solve everything you have learned so far by implementing functions in Python. \n",
    "\n",
    "**<font color='red'>[MUST MAINTAIN VARIABLE NAMING CONVENTIONS FOR ALL THE TASKS]</font>**\n",
    "\n",
    "## Write the Python code of the following problems:\n"
   ]
  },
  {
   "cell_type": "markdown",
   "metadata": {},
   "source": [
    "### Task 1\n",
    "Write a function called **evenChecker** that takes a number as an argument and prints whether the number is even or odd *inside the function*.\n",
    "\n",
    "**Example1:** \\\n",
    "**Function Call:**\\\n",
    "evenChecker(5)\\\n",
    "**Output:**\\\n",
    "Odd!!\n",
    "\n",
    "=============================\n",
    "\n",
    "**Example2:** \\\n",
    "**Function Call:**\\\n",
    "evenChecker(2)\\\n",
    "**Output:**\\\n",
    "Even!!\n",
    "\n"
   ]
  },
  {
   "cell_type": "code",
   "execution_count": 3,
   "metadata": {},
   "outputs": [
    {
     "name": "stdout",
     "output_type": "stream",
     "text": [
      "Enter a number4\n",
      "Even!!\n"
     ]
    }
   ],
   "source": [
    "#to do\n",
    "user=int(input(\"Enter a number\"))\n",
    "def evenChecker(x):\n",
    "    if x%2==0:\n",
    "        print(\"Even!!\")\n",
    "    else:\n",
    "        print(\"Odd!!\")\n",
    "evenChecker(user)"
   ]
  },
  {
   "cell_type": "markdown",
   "metadata": {},
   "source": [
    "### Task 2\n",
    "Write a python function that takes the limit as an argument of the Fibonacci series and prints till that limit. \n",
    "\n",
    "**Function Call:**\\\n",
    "Fibonacci(10)\\\n",
    "**Output:**\\\n",
    "0 1 1 2 3 5 8\\\n",
    "======================\\\n",
    "**Function Call:**\\\n",
    "Fibonacci(5)\\\n",
    "**Output:**\\\n",
    "0 1 1 2 3 5 "
   ]
  },
  {
   "cell_type": "code",
   "execution_count": 4,
   "metadata": {},
   "outputs": [
    {
     "name": "stdout",
     "output_type": "stream",
     "text": [
      "Enter a number5\n",
      "0 1 1 2 3 5 "
     ]
    }
   ],
   "source": [
    "# to do\n",
    "user=int(input(\"Enter a number\"))\n",
    "def Fibonacci(x):\n",
    "    s = 1\n",
    "    j = 0\n",
    "    for i in range(x+1):\n",
    "        print(j,end=\" \")\n",
    "        temp=j\n",
    "        j=s\n",
    "        s=s+temp\n",
    "Fibonacci(user)"
   ]
  },
  {
   "cell_type": "markdown",
   "metadata": {},
   "source": [
    "### Task 3\n",
    "Write a function called **fooMoo** that takes a number as an argument and **returns** the following statements according the below mention conditions. Then, finally prints the statement in the function call. \n",
    "\n",
    "* \tIf the number is divisible by 2, it should return “Foo”.\n",
    "*   If the number is divisible by 3, it should return “Moo”. \n",
    "*   If the number is divisible by both 2 and 3, it should return “FooMoo”.\n",
    "*   Otherwise, it returns “Boo”.\n",
    "\n",
    "**Example1:** \\\n",
    "**Function Call:**\\\n",
    "fooMoo(5)\\\n",
    "**Output:**\\\n",
    "Boo\n",
    "\n",
    "=================\n",
    "\n",
    "\n",
    "**Example2:** \\\n",
    "**Function Call:**\\\n",
    "fooMoo(4)\\\n",
    "**Output:**\\\n",
    "Foo\n",
    "\n",
    "=================\n",
    "\n",
    "\n",
    "**Example3:** \\\n",
    "**Function Call:**\\\n",
    "fooMoo(4)\\\n",
    "**Output:**\\\n",
    "FooMoo\n",
    "\n"
   ]
  },
  {
   "cell_type": "code",
   "execution_count": 1,
   "metadata": {},
   "outputs": [
    {
     "name": "stdout",
     "output_type": "stream",
     "text": [
      "Enter a number7\n",
      "Boo\n"
     ]
    }
   ],
   "source": [
    "# to do\n",
    "user=int(input(\"Enter a number\"))\n",
    "def fooMoo(x):\n",
    "    if x%2==0 and x%3==0:\n",
    "        return (\"FooMoo\")\n",
    "\n",
    "    elif x%3==0:\n",
    "        return (\"Moo\")\n",
    "    elif x%2==0:\n",
    "        return (\"Foo\")\n",
    "    else:\n",
    "        return (\"Boo\")\n",
    "answer=fooMoo(user)\n",
    "print(answer)"
   ]
  },
  {
   "cell_type": "markdown",
   "metadata": {},
   "source": [
    "### Task 4\n",
    "Write a python function that takes a string as an argument. Your task is to calculate the number of uppercase letters and lowercase letters and print them in the function. \n",
    "\n",
    "**Function Call:**\\\n",
    "function_name('The quick Sand Man')\\\n",
    "**Output:**\\\n",
    "No. of Uppercase characters : 3\\\n",
    "No. of Lowercase Characters: 12\\\n",
    "============================\\\n",
    "**Function Call:**\\\n",
    "function_name('HaRRy PotteR')\\\n",
    "**Output:**\\\n",
    "No. of Uppercase characters : 5\\\n",
    "No. of Lowercase Characters: 6\n"
   ]
  },
  {
   "cell_type": "code",
   "execution_count": 7,
   "metadata": {},
   "outputs": [
    {
     "name": "stdout",
     "output_type": "stream",
     "text": [
      "Enter a string:HaRRy PotteR\n",
      "No. of Uppercase characters : 5\n",
      "No. of Lowercase characters : 6\n"
     ]
    }
   ],
   "source": [
    "# to do\n",
    "user=input(\"Enter a string:\")\n",
    "def function(string):\n",
    "    lc=0\n",
    "    uc=0\n",
    "    for i in string:\n",
    "        if 97<=ord(i)<=122:\n",
    "            lc=lc+1\n",
    "        elif 65<=ord(i)<=90:\n",
    "            uc=uc+1\n",
    "    print(\"No. of Uppercase characters :\",uc)\n",
    "    print(\"No. of Lowercase characters :\",lc)\n",
    "function(user)"
   ]
  },
  {
   "cell_type": "markdown",
   "metadata": {},
   "source": [
    "### Task 5\n",
    "Write a function called **calculateTax** that takes 3 arguments: your age, salary, and current job designation.\n",
    "\n",
    "\n",
    "Your first task is to take these arguments as user input and pass these values to the function.\n",
    "\n",
    "Your second task is to implement the function and calculate the tax as the following conditions:\n",
    "*  **NO TAX IF YOU ARE LESS THAN 18 YEARS OLD.**\n",
    "*  **NO TAX IF YOU ARE THE PRESIDENT OF THE COMPANY** \n",
    "*  No tax if you get paid less than 10,000\n",
    "*  5% tax if you get paid between 10K and 20K\n",
    "*  10% tax if you get paid more than 20K\n",
    "\n",
    "\n",
    "Finally return this tax value. Then print the returned value in the function call.\n",
    "\n",
    "**Example1:** \\\n",
    "**Input:**\\\n",
    "16\\\n",
    "20000\\\n",
    "Student\\\n",
    "**Function Call:**\\\n",
    "calculateTax(16, 20000, 'Student')\\\n",
    "**Output:**\\\n",
    "0\n",
    "\n",
    "===================================\n",
    "\n",
    "**Example2:** \\\n",
    "**Input:**\\\n",
    "20\\\n",
    "18000\\\n",
    "assistant manager\\\n",
    "**Function Call:**\\\n",
    "calculateTax(20, 18000, 'assistant manager')\\\n",
    "**Output:**\\\n",
    "900.0\n",
    "\n",
    "\n",
    "===================================\n",
    "\n",
    "**Example3:** \\\n",
    "**Input:**\\\n",
    "20\\\n",
    "22000\\\n",
    "assistant manager\\\n",
    "**Function Call:**\\\n",
    "calculateTax(20, 22000, 'Assistant manager')\\\n",
    "**Output:**\\\n",
    "2200.0\n",
    "\n",
    "===================================\n",
    "\n",
    "\n",
    "**Example4:** \\\n",
    "**Input:**\\\n",
    "20\\\n",
    "122000\\\n",
    "president\\\n",
    "**Function Call:**\\\n",
    "calculateTax(20, 122000, 'president')\\\n",
    "**Output:**\\\n",
    "0\n",
    " \n",
    "\n",
    "**Hints:**\\\n",
    "Here the job designation is a string, so it can be written in both uppercase and lower cases. So, you need to check the value ignoring the case.\n"
   ]
  },
  {
   "cell_type": "code",
   "execution_count": 8,
   "metadata": {},
   "outputs": [
    {
     "name": "stdout",
     "output_type": "stream",
     "text": [
      "Enter age:34\n",
      "Enter salary:2678373356\n",
      "Enter current job:President\n",
      "0\n"
     ]
    }
   ],
   "source": [
    "# to do\n",
    "age = int(input(\"Enter age:\"))\n",
    "salary = int(input(\"Enter salary:\"))\n",
    "current_job = input(\"Enter current job:\")\n",
    "\n",
    "def calculateTax(age,salary,current_job):\n",
    "    f=current_job.lower()\n",
    "    if age<18 or salary<10000 or f==\"president\":\n",
    "        return (\"0\")\n",
    "    elif 10000<=salary<=20000:\n",
    "        return ((salary*5)/100)\n",
    "    elif salary>=20000:\n",
    "        return ((salary*10)/100)\n",
    "answer=calculateTax(age,salary,current_job)\n",
    "print(answer)"
   ]
  },
  {
   "cell_type": "markdown",
   "metadata": {},
   "source": [
    "### Task 6\n",
    "Write a function which will take 1 argument, number of days.\n",
    "\n",
    "Your first task is to take the number of days as user input and pass the value to the function.\n",
    " \n",
    "Your second task is to implement the function and calculate the total number of years, number of months, and the remaining number of days as output. No need to return any value, print inside the function. \n",
    "\n",
    "**Note:** Assume, each year to be 365 days and month to be 30 days.\n",
    "\n",
    "**Hint:** Divide and mod the main input to get the desired output.\n",
    "\n",
    "**Input:**\\\n",
    "4330\\\n",
    "**Function Call:**\\\n",
    "function_name(4330)\\\n",
    "**Output:**\\\n",
    "11 years, 10 months and 15 days\n",
    "\n",
    "================================\n",
    "\n",
    "**Input:**\\\n",
    "2250\\\n",
    "**Function Call:**\\\n",
    "function_name(2250)\\\n",
    "**Output:**\\\n",
    "6 years, 2 months and 0 days\n",
    "\n",
    "\n",
    "**Hints:** \\\n",
    "This task’s calculation is similar to Assignment-1’s seconds to hours, minutes conversion."
   ]
  },
  {
   "cell_type": "code",
   "execution_count": 2,
   "metadata": {},
   "outputs": [
    {
     "name": "stdout",
     "output_type": "stream",
     "text": [
      "Enter value:50\n",
      "0 years, 1 months and 20 days\n"
     ]
    }
   ],
   "source": [
    "# todo\n",
    "value=int(input(\"Enter value:\"))\n",
    "def daysCalculator(x):\n",
    "    year=x//365\n",
    "    print(year,\"years\",end=\", \")\n",
    "    x=x%365\n",
    "    month=x//30\n",
    "    print(month,\"months\",end=\" and \")\n",
    "    day=x%30\n",
    "    print(day,\"days\")\n",
    "daysCalculator(value)"
   ]
  },
  {
   "cell_type": "markdown",
   "metadata": {},
   "source": [
    "### Task 7\n",
    "Write a function called **splittingMoney** that takes an “amount” of money as a argument.\n",
    "\n",
    "Your first task is to take the “amount” of money as user input and pass the value to the function paramater.\n",
    " \n",
    "Your second task is to implement the function and calculate how that money can be split into 500, 100, 50, 20, 10, 5, 2, and 1 taka notes.\n",
    "\n",
    "Then print the returned value in the function call.\n",
    "\n",
    "**Example1:** \\\n",
    "If the money is 1234, then the function should return \n",
    "\n",
    "“500 Taka: 2 note(s) \\\n",
    "100 Taka: 2 note(s) \\\n",
    "20 Taka: 1 note(s) \\\n",
    "10 Taka: 1 note(s) \\\n",
    "2 Taka: 2 note(s)”\n",
    "\n",
    "**Example2:** \\\n",
    "If the money is 151, then the function should return\n",
    "\n",
    "“100 Taka: 1 note(s)\\\n",
    "50 Taka: 1 note(s)\\\n",
    "1 Taka: 1 note(s)”\n",
    "\n",
    "\n",
    "**Hints:** \\\n",
    "This task’s calculation is similar to Assignment-1’s seconds to hours, minutes conversion. To return the result containing multiple strings, you need to store it in a variable and return it at the end of the function.\n"
   ]
  },
  {
   "cell_type": "code",
   "execution_count": 1,
   "metadata": {},
   "outputs": [
    {
     "name": "stdout",
     "output_type": "stream",
     "text": [
      "Enter amount:400\n",
      "100 Taka: 4 note(s)\n"
     ]
    }
   ],
   "source": [
    "# to do\n",
    "amount=int(input(\"Enter amount:\"))\n",
    "def splittingMoney(x):\n",
    "   \n",
    "    fivehundred=x//500\n",
    "    if fivehundred!=0:\n",
    "        print (\"500 Taka:\",fivehundred,\"note(s)\")\n",
    "    x=x%500\n",
    "    onehundred=x//100\n",
    "    if onehundred!=0:\n",
    "        print(\"100 Taka:\",onehundred,\"note(s)\")\n",
    "    x=x%100\n",
    "    fifty=x//50\n",
    "    if fifty!=0:\n",
    "        print(\"50 Taka:\",fifty,\"note(s)\")\n",
    "    x=x%50\n",
    "    twenty=x//20\n",
    "    if twenty!=0:\n",
    "        print(\"20 Taka:\",twenty,\"note(s)\")\n",
    "    x=x%20\n",
    "    ten=x//10\n",
    "    if ten != 0:\n",
    "        print(\"10 Taka:\",ten,\"note(s)\")\n",
    "    x=x%10\n",
    "    five=x//5\n",
    "    if five != 0:\n",
    "        print(\"5 Taka:\",five,\"note(s)\")\n",
    "    x=x%5\n",
    "    two=x//2\n",
    "    if two != 0:\n",
    "        print(\"2 Taka:\",two,\"note(s)\")\n",
    "    x=x%2\n",
    "    one=x/1\n",
    "    if one != 0:\n",
    "        print(\"1 Taka:\",int(one),\"note(s)\")\n",
    "splittingMoney(amount)\n"
   ]
  },
  {
   "cell_type": "markdown",
   "metadata": {},
   "source": [
    "### Task 8\n",
    "Write a function called **showPalindrome** that takes a number as an argument and then returns a palindrome string. Finally, prints the returned value in the function call.\n",
    "\n",
    "**Example1:** \\\n",
    "**Function Call:**\\\n",
    "showPalindrome(5)\\\n",
    "**Output:**\\\n",
    "123454321\n",
    "\n",
    "===================\n",
    "\n",
    "**Example2:** \\\n",
    "**Function Call:**\\\n",
    "showPalindrome(3)\\\n",
    "**Output:**\\\n",
    "12321\n"
   ]
  },
  {
   "cell_type": "code",
   "execution_count": 14,
   "metadata": {},
   "outputs": [
    {
     "name": "stdout",
     "output_type": "stream",
     "text": [
      "Enter value:4\n",
      "1234321\n"
     ]
    }
   ],
   "source": [
    "# to do\n",
    "user=int(input(\"Enter value:\"))\n",
    "def showPalindrome(x):\n",
    "    z1=\"\"\n",
    "    z2=\"\"\n",
    "    for i in range(1,x+1):\n",
    "        z1=z1+(str(i))\n",
    "    for j in range(x-1,0,-1):\n",
    "        z2=z2+(str(j))\n",
    "    return z1+z2\n",
    "print(showPalindrome(user))\n"
   ]
  },
  {
   "cell_type": "markdown",
   "metadata": {},
   "source": [
    "### Task 9\n",
    "Write a function called **showPalindromicTriangle** that takes a number as a argument and prints a Palindromic Triangle in the function. \n",
    "\n",
    "\n",
    "**Example1:** \\\n",
    "**Function Call:**\\\n",
    "showPalindromicTriangle(5)\\\n",
    "**Output:**\n",
    "\n",
    "&emsp; &emsp; &emsp; &emsp; 1\\\n",
    "&emsp; &emsp; &emsp; 1 &nbsp; 2 &nbsp; 1 \\\n",
    "&emsp; &emsp; 1 &nbsp; 2 &nbsp; 3 &nbsp; 2 &nbsp; 1 \\\n",
    "&emsp; 1 &nbsp; 2 &nbsp; 3 &nbsp; 4 &nbsp; 3 &nbsp; 2 &nbsp; 1 \\\n",
    "1 &nbsp; 2 &nbsp; 3 &nbsp; 4 &nbsp; 5 &nbsp; 4 &nbsp; 3 &nbsp; 2 &nbsp; 1\n",
    "\n",
    "=============================================================\n",
    "\n",
    "\n",
    "**Example1:** \\\n",
    "**Function Call:**\\\n",
    "showPalindromicTriangle(3)\\\n",
    "**Output:**\n",
    "\n",
    "&emsp; &emsp; 1 \\\n",
    "&emsp; 1 &nbsp; 2 &nbsp; 1 \\\n",
    "1 &nbsp; 2 &nbsp; 3 &nbsp; 2 &nbsp; 1\n",
    "\n",
    "\n",
    "**Hints:** \\\n",
    "Need to use both print() and print( , end = \" \") functions"
   ]
  },
  {
   "cell_type": "code",
   "execution_count": 2,
   "metadata": {},
   "outputs": [
    {
     "name": "stdout",
     "output_type": "stream",
     "text": [
      "Enter a number:9\n",
      "                1 \n",
      "              1 2 1 \n",
      "            1 2 3 2 1 \n",
      "          1 2 3 4 3 2 1 \n",
      "        1 2 3 4 5 4 3 2 1 \n",
      "      1 2 3 4 5 6 5 4 3 2 1 \n",
      "    1 2 3 4 5 6 7 6 5 4 3 2 1 \n",
      "  1 2 3 4 5 6 7 8 7 6 5 4 3 2 1 \n",
      "1 2 3 4 5 6 7 8 9 8 7 6 5 4 3 2 1 \n"
     ]
    }
   ],
   "source": [
    "# to do\n",
    "user=int(input(\"Enter a number:\"))\n",
    "def showPalindromicTriangle(x):\n",
    "    for i in range(1,x+1):\n",
    "        for j in range(1,x+1-i):\n",
    "            print(\" \",end=\" \")\n",
    "        for w in range(1,i+1):\n",
    "            print(w,end=\" \")\n",
    "        for z in range(i-1,0,-1):\n",
    "            print(z,end=\" \")\n",
    "        print()\n",
    "showPalindromicTriangle(user)"
   ]
  },
  {
   "cell_type": "markdown",
   "metadata": {},
   "source": [
    "### Task 10\n",
    "Write a function called **areaCircumferenceGenerator** that takes a radius of a circle as a  function parameter and calculates its circumference and area. Then returns these two results as a **tuple** and prints the results using tuple unpacking in the function call accorrding to the given format. <font color='red'>[Must use tuple packing & unpacking] </font> \n",
    "\n",
    "**Example1:** \\\n",
    "**Function Call:**\\\n",
    "areaCircumferenceGenerator(1)\\\n",
    "**Output:**\\\n",
    "(3.141592653589793, 6.283185307179586)\\\n",
    "Area of the circle is 3.141592653589793 and circumference is 6.283185307179586\n",
    "\n",
    "====================================\n",
    "\n",
    "**Example2:** \\\n",
    "**Function Call:**\\\n",
    "areaCircumferenceGenerator(1.5)\\\n",
    "**Output:**\\\n",
    "(7.0685834705770345, 9.42477796076938)\\\n",
    "Area of the circle is 7.0685834705770345 and circumference is 9.42477796076938\n",
    "\n",
    "====================================\n",
    "\n",
    "\n",
    "**Example3:** \\\n",
    "**Function Call:**\\\n",
    "areaCircumferenceGenerator(2.5)\\\n",
    "**Output:**\\\n",
    "(19.634954084936208, 15.707963267948966)\\\n",
    "Area of the circle is 19.634954084936208 and circumference is 15.707963267948966\n"
   ]
  },
  {
   "cell_type": "code",
   "execution_count": 24,
   "metadata": {},
   "outputs": [
    {
     "name": "stdout",
     "output_type": "stream",
     "text": [
      "(19.634954084936208, 15.707963267948966)\n",
      "Area of the circle is 19.634954084936208 and circumference is 15.707963267948966\n"
     ]
    }
   ],
   "source": [
    "# to do\n",
    "def AC(r):\n",
    "    import math\n",
    "    c=(2*math.pi*r)\n",
    "    a=(math.pi*r**2)\n",
    "    my=(a,c)\n",
    "    print(my)\n",
    "    print(\"Area of the circle is\",a,end=\" \")\n",
    "    print(\"and circumference is\",c)\n",
    "AC(2.5)"
   ]
  },
  {
   "cell_type": "markdown",
   "metadata": {},
   "source": [
    "### Task 11\n",
    "Write a function called **makeSquare** that takes a tuple in the parameter as a range of numbers (starting point and ending point (included)). The function should **return a dictionary** with the numbers as keys and its squares as values.\n",
    "\n",
    "**Example1:** \\\n",
    "**Function Call:**\\\n",
    "makeSquare((1,3))\\\n",
    "**Output:**\\\n",
    "{1: 1, 2: 4, 3: 9}\n",
    "\n",
    "====================================\n",
    "\n",
    "**Example2:** \\\n",
    "**Function Call:**\\\n",
    "makeSquare((5,9))\\\n",
    "**Output:**\\\n",
    "{5: 25, 6: 36, 7: 49, 8: 64, 9: 81}\n",
    "\n",
    "\n",
    "\n",
    "**Hints:** \\\n",
    "You need to declare a dictionary to store the result. You should use the range function to run the “for loop”.\n"
   ]
  },
  {
   "cell_type": "code",
   "execution_count": 4,
   "metadata": {},
   "outputs": [
    {
     "name": "stdout",
     "output_type": "stream",
     "text": [
      "Enter a number:5\n",
      "Enter a number:9\n",
      "{5: 25, 6: 36, 7: 49, 8: 64, 9: 81}\n"
     ]
    }
   ],
   "source": [
    "# to do\n",
    "x=2\n",
    "a=[]\n",
    "for i in range(x):\n",
    "    num=int(input(\"Enter a number:\"))\n",
    "    a.append(num)\n",
    "tuple1=tuple(a)\n",
    "#print(tuple1)\n",
    "def makeSquare(x):\n",
    "    b = {}\n",
    "    for i in range(x[0],x[-1]+1):\n",
    "        k=i\n",
    "        v=i**2\n",
    "        b[k]=v\n",
    "    return (b)\n",
    "print(makeSquare(tuple1))"
   ]
  },
  {
   "cell_type": "markdown",
   "metadata": {},
   "source": [
    "### Task 12\n",
    "Write a function called **removeOdd** that takes a list of numbers that have both even and odd numbers mixed. \\\n",
    "Your function should remove all the odd numbers and **return a compact list** which only contains the even numbers. \n",
    "\n",
    "**Example1:** \\\n",
    "**Function Call:**\\\n",
    "removeOdd ([21, 33, 44, 66, 11, 1, 88, 45, 10, 9])\\\n",
    "**Output:**\\\n",
    "[44, 66, 88, 10]\n",
    "\n",
    "====================================\n",
    "\n",
    "**Example2:** \\\n",
    "**Function Call:**\\\n",
    "removeOdd ([11,2,3,4,5,2,0,5,3])\\\n",
    "**Output:**\\\n",
    "[2, 4, 2, 0]\n",
    "\n"
   ]
  },
  {
   "cell_type": "code",
   "execution_count": 16,
   "metadata": {},
   "outputs": [
    {
     "name": "stdout",
     "output_type": "stream",
     "text": [
      "Enter how many elements you want in list:10\n",
      "Enter a number:21\n",
      "Enter a number:23\n",
      "Enter a number:44\n",
      "Enter a number:66\n",
      "Enter a number:11\n",
      "Enter a number:1\n",
      "Enter a number:88\n",
      "Enter a number:45\n",
      "Enter a number:10\n",
      "Enter a number:9\n",
      "[44, 66, 88, 10]\n"
     ]
    }
   ],
   "source": [
    "# to do\n",
    "x=int(input(\"Enter how many elements you want in list:\"))\n",
    "a=[]\n",
    "for i in range(x):\n",
    "    num=int(input(\"Enter a number:\"))\n",
    "    a.append(num)\n",
    "def removeOdd(x):\n",
    "    compact_list=[]\n",
    "    for i in x:\n",
    "        if i%2==0:\n",
    "            compact_list.append(i)\n",
    "    return compact_list\n",
    "print(removeOdd(a))\n"
   ]
  },
  {
   "cell_type": "markdown",
   "metadata": {},
   "source": [
    "### Task 13\n",
    "Write a function called **remDuplicate** that takes a tuple in the parameter and return a tuple removing all the duplicate values. Then print the returned tuple in the function call.\n",
    "\n",
    "**Example1:** \\\n",
    "**Function Call:**\\\n",
    "remDuplicate((1,1,1,2,3,4,5,6,6,6,6,4,0,0,0))\\\n",
    "**Output:**\\\n",
    "(1, 2, 3, 4, 5, 6, 0)\n",
    "\n",
    "====================================\n",
    "\n",
    "**Example2:** \\\n",
    "**Function Call:**\\\n",
    "remDuplicate((\"Hi\", 1, 2, 3, 3, \"Hi\",'a', 'a', [1,2]))\\\n",
    "**Output:**\\\n",
    "('Hi', 1, 2, 3, 'a', [1, 2])\n",
    "\n",
    "\n",
    "**Hints:** \\\n",
    "Unlike lists, tuples are immutable so, the tuple taken as an argument cannot be modified. But list can be modified and lastly for returning the result use type conversion. You need to use membership operators (in, not in) for preventing adding any duplicates values.\n"
   ]
  },
  {
   "cell_type": "code",
   "execution_count": 17,
   "metadata": {},
   "outputs": [
    {
     "name": "stdout",
     "output_type": "stream",
     "text": [
      "('Hi', 1, 2, 3, 'a', [1, 2])\n"
     ]
    }
   ],
   "source": [
    "# to do\n",
    "def remDuplicate(x):\n",
    "    b = []\n",
    "    c = ()\n",
    "    for i in x:\n",
    "        if i not in b:\n",
    "            b.append(i)\n",
    "        c=tuple(b)\n",
    "    return (c)\n",
    "print(remDuplicate((\"Hi\", 1, 2, 3, 3, \"Hi\",'a', 'a', [1,2])))\n"
   ]
  },
  {
   "cell_type": "markdown",
   "metadata": {},
   "source": [
    "### Task 14\n",
    "Write a python function that takes a list as an argument. Your task is to create a new list where **each element can be present at max 2 times**. Inside the function, print the number of elements removed from the given list. Finally, return the new list and print the result.\n",
    "\n",
    "**Hint:** Use list_name.count(element) to count the total number of times an element is in a list. list_name is your new list for this problem.\n",
    "\n",
    "**Function Call:**\\\n",
    "function_name([1, 2, 3, 3, 3, 3, 4, 5, 8, 8])\\\n",
    "**Output:**\\\n",
    "Removed: 2\\\n",
    "[1, 2, 3, 3, 4, 5, 8, 8]\\\n",
    "================================\\\n",
    "**Function Call:**\\\n",
    "function_name([10, 10, 15, 15, 20])\\\n",
    "**Output:**\\\n",
    "Removed: 0\\\n",
    "[10, 10, 15, 15, 20]"
   ]
  },
  {
   "cell_type": "code",
   "execution_count": 18,
   "metadata": {},
   "outputs": [
    {
     "name": "stdout",
     "output_type": "stream",
     "text": [
      "Enter how many elements do you want in list:10\n",
      "Enter item name:1\n",
      "Enter item name:2\n",
      "Enter item name:3\n",
      "Enter item name:3\n",
      "Enter item name:3\n",
      "Enter item name:4\n",
      "Enter item name:5\n",
      "Enter item name:8\n",
      "Enter item name:8\n",
      "Enter item name:3\n",
      "Removed 2\n",
      "[1, 2, 3, 4, 5, 8, 8, 3]\n"
     ]
    }
   ],
   "source": [
    "# todo\n",
    "inpu=int(input(\"Enter how many elements do you want in list:\"))\n",
    "a=[]\n",
    "for i in range(inpu):\n",
    "    num=int(input(\"Enter item name:\"))\n",
    "    a.append(num)\n",
    "def Remover(x):\n",
    "    r=0\n",
    "    #su=x.sort()\n",
    "    #print(su)\n",
    "    for i in x:\n",
    "        if (x.count(i))>2:\n",
    "            x.remove(i)\n",
    "            r=r+1\n",
    "    print(\"Removed\",r)\n",
    "    return (x)\n",
    "print(Remover(a))"
   ]
  },
  {
   "cell_type": "markdown",
   "metadata": {},
   "source": [
    "### Task 15\n",
    "Write a function which will take 4 arguments. They are:\n",
    "- starting value(inclusive)\n",
    "- ending value(exclusive)\n",
    "- first divisor\n",
    "- second divisor\n",
    "\n",
    "Your first task is to take these arguments as user input and pass these values to the function.\n",
    "\n",
    "Your second task is to implement the function and find all the numbers that are divisible by the <u>first divisor or second divisor but not both</u> from the starting value(inclusive) and ending value(exclusive). Add all the numbers that are divisible and finally return this value. Print the returned value in the function call.\n",
    "\n",
    "**Input:**\\\n",
    "10\\\n",
    "40\\\n",
    "4\\\n",
    "7\\\n",
    "**Function Call:**\\\n",
    "function_name(10, 40, 4, 7)\\\n",
    "**Output:**\\\n",
    "210\\\n",
    "================================\\\n",
    "**Input:**\\\n",
    "5\\\n",
    "100\\\n",
    "3\\\n",
    "4\\\n",
    "**Function Call:**\\\n",
    "function_name(5, 100, 3, 4)\\\n",
    "**Output:**\\\n",
    "2012\n",
    "\n",
    "\n"
   ]
  },
  {
   "cell_type": "code",
   "execution_count": 22,
   "metadata": {},
   "outputs": [
    {
     "name": "stdout",
     "output_type": "stream",
     "text": [
      "Enter starting value:5\n",
      "Enter ending value:100\n",
      "Enter first divisor:3\n",
      "Enter second divisor:4\n",
      "2012\n"
     ]
    }
   ],
   "source": [
    "# to do\n",
    "s = int(input(\"Enter starting value:\"))\n",
    "e = int(input(\"Enter ending value:\"))\n",
    "fd = int(input(\"Enter first divisor:\"))\n",
    "sd = int(input(\"Enter second divisor:\"))\n",
    "def divisor(start,end,f_divisor,s_divisor):\n",
    " \n",
    "    sum=0\n",
    "    for i in range(s,e):\n",
    "        if i %fd==0 and i%sd!=0:\n",
    "            sum=sum+i\n",
    "        if i%sd==0 and i%fd!=0:\n",
    "            sum=sum+i\n",
    "    return (sum)\n",
    "print(divisor(s,e,fd,sd))"
   ]
  },
  {
   "cell_type": "markdown",
   "metadata": {},
   "source": [
    "### Task 16\n",
    "Write a python function that will perform the basic calculation (addition, subtraction, multiplication and division) based on 3 arguments. They are:\n",
    "- Operator ('+', '-', '/', '*')\n",
    "- First Operand (any number)\n",
    "- Second Operand (any number)\n",
    "\n",
    "Your first task is to take these arguments as user input and pass the values to the function parameters.\n",
    "\n",
    "Your second task is to write a function and performs the calculation based on the given operator. Then, finally return the result in the function call and print the result.\n",
    "\n",
    "**Input:**\\\n",
    "\"+\"\\\n",
    "10\\\n",
    "20\\\n",
    "**Function Call:**\\\n",
    "function_name(\"+\", 10, 20)\\\n",
    "**Output:**\\\n",
    "30\n",
    "\n",
    "================================\n",
    "\n",
    "**Input:**\\\n",
    "\"*\"\\\n",
    "5.5\\\n",
    "2.5\\\n",
    "**Function Call:**\\\n",
    "function_name(\"*\", 5.5, 2.5)\\\n",
    "**Output:**\\\n",
    "13.75\n"
   ]
  },
  {
   "cell_type": "code",
   "execution_count": 29,
   "metadata": {},
   "outputs": [
    {
     "name": "stdout",
     "output_type": "stream",
     "text": [
      "Enter a Operator:*\n",
      "Enter first number:5.5\n",
      "Enter second number:2.5\n",
      "13.75\n"
     ]
    }
   ],
   "source": [
    "# to do\n",
    "Op = (input(\"Enter a Operator:\"))\n",
    "fnum = float(input(\"Enter first number:\"))\n",
    "snum = float(input(\"Enter second number:\"))\n",
    "def divisor(operator,fnumber,snumber):\n",
    "    if Op is \"+\":\n",
    "        return fnum + snum\n",
    "    elif Op is \"-\":\n",
    "        return fnum - snum\n",
    "    elif Op is \"/\":\n",
    "        return fnum / snum\n",
    "    elif Op is \"*\":\n",
    "        return fnum * snum\n",
    "print(divisor(\"Op\",\"fnum\",\"snum\"))"
   ]
  },
  {
   "cell_type": "markdown",
   "metadata": {},
   "source": [
    "### Task 17\n",
    "Write a python function which will take a string as an argument. \n",
    "\n",
    "Your first task is to take a string as user input and pass the value to the function.\n",
    "\n",
    "Your second task is to implement a function which will check whether all the alphabets from a to j (convert all the alphabets to lowercase) has appeared at least once in the given string or not. \n",
    "- If all of these alphabets (a to j) appear at least once, then the result will be 5. \n",
    "- If any one of the alphabets (a to j) is not in the given string, then the result will be 6.\n",
    "\n",
    "Return this result and print the statement, “Chelsea is the best club in England” that many times.\n",
    "\n",
    "**Example:**\n",
    "\"A black jackal is hunting a full grown deer\" \n",
    "\n",
    "Here all the alphabets from A to J are present at least once. So, the function will return 5 and will print the statement 5 times.\n",
    "\n",
    "**Input:**\\\n",
    "\"A black jackal is hunting a full grown deer\"\\\n",
    "**Function Call:**\\\n",
    "function_name(\"A black jackal is hunting a full grown deer\")\\\n",
    "**Output:**\\\n",
    "Chelsea is the best club in England\\\n",
    "Chelsea is the best club in England\\\n",
    "Chelsea is the best club in England\\\n",
    "Chelsea is the best club in England\\\n",
    "Chelsea is the best club in England\n",
    "\n",
    "==============================================\n",
    "\n",
    "**Input:**\\\n",
    "\"ABBCDEFEFGHI\"\\\n",
    "**Function Call:**\\\n",
    "function_name(\"ABBCDEFEFGHI\")\\\n",
    "**Output:**\\\n",
    "Chelsea is the best club in England\\\n",
    "Chelsea is the best club in England\\\n",
    "Chelsea is the best club in England\\\n",
    "Chelsea is the best club in England\\\n",
    "Chelsea is the best club in England\\\n",
    "Chelsea is the best club in England\n"
   ]
  },
  {
   "cell_type": "code",
   "execution_count": 5,
   "metadata": {},
   "outputs": [
    {
     "name": "stdout",
     "output_type": "stream",
     "text": [
      "Enter a string:ABCDefghijkh;lef\n",
      "Chelsea is the best club in England\n",
      "Chelsea is the best club in England\n",
      "Chelsea is the best club in England\n",
      "Chelsea is the best club in England\n",
      "Chelsea is the best club in England\n",
      "\n"
     ]
    }
   ],
   "source": [
    "# to do\n",
    "x=input(\"Enter a string:\")\n",
    "def Checker(x):\n",
    "    low=x.lower()\n",
    "    s=\"abcdefghij\"\n",
    "    new=\"\"\n",
    "    for i in s:\n",
    "        if i not in low:\n",
    "            new=new+i\n",
    "    if new == \"\":\n",
    "        return (\"Chelsea is the best club in England\\n\"*5)\n",
    "    else:\n",
    "        return (\"Chelsea is the best club in England\\n\"*6)\n",
    "print(Checker(x))"
   ]
  },
  {
   "cell_type": "markdown",
   "metadata": {},
   "source": [
    "### Task 18\n",
    "Write a function which will take 2 arguments. They are:\n",
    "- Sentence \n",
    "- position \n",
    "\n",
    "Your first task is to take these arguments as user input and pass these values to the function parameters.\n",
    "\n",
    "Your second task is to implement the function and remove the characters at the index number which is divisible by the position (Avoid the index number 0 as it will always be divisible by the position, so no need to remove the index 0 character). \n",
    "Finally, add the removed characters at the end of the new string.\n",
    "\n",
    "Return the value and print the new string.\n",
    "\n",
    "**Input:**\\\n",
    "‘I love programming.’\\\n",
    "3\\\n",
    "**Function call:**\\\n",
    "function_name(‘I love programming.’,3)\\\n",
    "**Output:**\\\n",
    "I lveprgrmmngo oai.\n",
    "\n",
    "==============================================\n",
    "\n",
    "**Input:**\\\n",
    "‘Python is easy to learn. I love python.’\\\n",
    "6\\\n",
    "**Function call:**\\\n",
    "function_name(‘Python is easy to learn. I love python.’,6)\\\n",
    "**Output:**\\\n",
    "Pythonis eay to earn.I lov pythn. sl eo\n"
   ]
  },
  {
   "cell_type": "code",
   "execution_count": 3,
   "metadata": {},
   "outputs": [
    {
     "name": "stdout",
     "output_type": "stream",
     "text": [
      "Enter a sentence:I love programming\n",
      "Enter position:3\n",
      "I lveprgrmmngo oai\n"
     ]
    }
   ],
   "source": [
    "#to do\n",
    "sen=input(\"Enter a sentence:\")\n",
    "pos=int(input(\"Enter position:\"))\n",
    "def Magic(x,y):\n",
    "    s1=x[0]\n",
    "    s2=\"\"\n",
    "    f=len(x)\n",
    "    for i in range(1,f):\n",
    "        if i %y!=0:\n",
    "            s1=s1+sen[i]\n",
    "        elif i%y==0:\n",
    "            s2=s2+sen[i]\n",
    "    return s1+s2\n",
    "print(Magic(sen,pos))"
   ]
  },
  {
   "cell_type": "markdown",
   "metadata": {},
   "source": [
    "### Task 19\n",
    "You have been hired as an app developer for the company karon_tumi_bekar. The company plans to make an app for a grocery store where the user can order groceries and see the total amount to be paid in the cart section. \n",
    "\n",
    "To build this feature, you have to write a function that takes 2 arguments. They are:\n",
    "- order_items (must be a list)\n",
    "- location (default value should be set to ‘Dhanmondi’)\n",
    "\n",
    "Your first task is to take a list of items from the user. Pass the list into the function parameter along with the optional location (Use default argument technique). (Also, no need to take location as input, pass this any value you want.) \n",
    "\n",
    "Your second task is to implement the function. In the function, create a dictionary for the items shown in the table. Calculate the total price of the items passed as a list to the function. Additionally, add a delivery fee of 30 taka if the location is Dhanmondi. Otherwise, add a delivery fee of 70 taka. Finally, return the value and print it.\n",
    "\n",
    "| Item | Price(Tk) |\n",
    "| --- | --- |\n",
    "| Rice | 105 |\n",
    "| Potato | 20 |\n",
    "| Chicken | 250 |\n",
    "| Beef | 510 |\n",
    "| Oil | 85 |\n",
    "\n",
    "**Hint:** The keys are the items and values are the corresponding price. Iterate the items in the list and check if the items in the list are available in the dictionary keys or not. If it is available, add the price.\n",
    "\n",
    "**Example:**\\\n",
    "function_name([‘Rice’, ‘Beef’, ‘Rice’], ‘Mohakhali’)\n",
    "\n",
    "total = 105 + 510 + 105 = 720 (Take the price of each item and add them.)\\\n",
    "total = 720 + 70 = 790 (Finally, add the delivery fee based on the location.)\n",
    "\n",
    "**Input:**\\\n",
    "[‘Rice’, ‘Beef’, ‘Rice’]\\\n",
    "**Function Call:**\\\n",
    "function_name([‘Rice’, ‘Beef’, ‘Rice’], ‘Mohakhali’)\\\n",
    "**Output:**\\\n",
    "790\n",
    "\n",
    "==============================================\n",
    "\n",
    "**Input:**\\\n",
    "[‘Rice’, ‘Beef’, ‘Rice’]\\\n",
    "**Function Call:**\\\n",
    "function_name([‘Rice’, ‘Beef’, ‘Rice’])\\\n",
    "**Output:**\\\n",
    "750"
   ]
  },
  {
   "cell_type": "code",
   "execution_count": 23,
   "metadata": {},
   "outputs": [
    {
     "name": "stdout",
     "output_type": "stream",
     "text": [
      "Enter how many items do you want in order:4\n",
      "Enter item name:Rice\n",
      "Enter item name:Beef\n",
      "Enter item name:Chicken\n",
      "Enter item name:Oil\n",
      "980\n"
     ]
    }
   ],
   "source": [
    "#to do\n",
    "\n",
    "inpu=int(input(\"Enter how many items do you want in order:\"))\n",
    "a=[]\n",
    "for i in range(inpu):\n",
    "    ord=(input(\"Enter item name:\"))\n",
    "    a.append(ord)\n",
    "def karon_tumi_bekar(x,y=\"Dhanmondi\"):\n",
    "    total=None\n",
    "    dvd=30\n",
    "    dvu=70\n",
    "    sum=0\n",
    "    r={\"Rice\":105,\"Potato\":20,\"Chicken\":250,\"Beef\":510,\"Oil\":85}\n",
    "\n",
    "    for key,value in r.items():\n",
    "        for i in x:\n",
    "            if i  in  key:\n",
    "                sum=sum+r[key]\n",
    "\n",
    "    if y==\"Dhanmondi\":\n",
    "\n",
    "        total= sum+dvd\n",
    "    if y!=\"Dhanmondi\":\n",
    "\n",
    "        total= (sum+dvu)\n",
    "    return total\n",
    "cdf=karon_tumi_bekar(a)\n",
    "print(cdf)\n"
   ]
  },
  {
   "cell_type": "markdown",
   "metadata": {},
   "source": [
    "### Task 20\n",
    "You have been hired by the Abahani football club to write a function that will calculate the total bonus on the yearly earnings of each player for the total goals they have scored. Since the number of players will vary, you decide to use the \"*args\" technique that you learned in your CSE110 class. (No need to take any input from the user. Call the functions and print the values inside the function.) \n",
    "For each player: pass the name, yearly earning, the total goal scored this season, bonus percent per goal. Additionally, if the goal scored is above 30, add an extra bonus of 10000 taka. If it is between 20 and 30 inclusive, add an extra 5000 taka.\n",
    "\n",
    "**Example:**\\\n",
    "function_name(‘Neymar’, 1200000, 30, 10)\n",
    "\n",
    "bonus = 30 * (10 / 100 * 1200000) + 5000 = 3605000\n",
    "\n",
    "**Function call:**\\\n",
    "function_name(‘Neymar’, 1200000, 30, 10)\\\n",
    "**Output:**\\\n",
    "Neymar earned a bonus of 3605000 Taka for 31 goals.\n",
    "\n",
    "=====================================================\n",
    "\n",
    "**Function call:**\\\n",
    "function_name(‘Neymar’, 1200000, 30, 10, ‘Jamal’, 700000, 19, 5)\\\n",
    "**Output:**\\\n",
    "Neymar earned a bonus of 3605000 Taka for 31 goals.\\\n",
    "Jamal earned a bonus of 665000 Taka for 19 goals.\n",
    "\n",
    "\n",
    "\n"
   ]
  },
  {
   "cell_type": "code",
   "execution_count": 6,
   "metadata": {},
   "outputs": [
    {
     "name": "stdout",
     "output_type": "stream",
     "text": [
      "Neymar earned a bonus of 3605000 Taka for 30 goals\n",
      "Jamal earned a bonus of 665000 Taka for 19 goals\n"
     ]
    }
   ],
   "source": [
    "# to do\n",
    "def PlayerBonus(*x):\n",
    "    for i in x:\n",
    "        bonus=i[2]*(i[-1] / 100*i[1])\n",
    "        if i[2]>30:\n",
    "            bonus=bonus+10000\n",
    "        if 20<=i[2]<=30:\n",
    "            bonus=bonus+5000\n",
    "        print (i[0],\"earned a bonus of\",int(bonus),\"Taka for\",i[2],\"goals\")\n",
    "PlayerBonus((\"Neymar\", 1200000, 30, 10) ,(\"Jamal\", 700000, 19, 5))\n"
   ]
  },
  {
   "cell_type": "code",
   "execution_count": 8,
   "metadata": {},
   "outputs": [
    {
     "name": "stdout",
     "output_type": "stream",
     "text": [
      "22\n",
      "32\n",
      "66\n",
      "[46, 77]\n"
     ]
    }
   ],
   "source": []
  },
  {
   "cell_type": "code",
   "execution_count": null,
   "metadata": {},
   "outputs": [],
   "source": []
  }
 ],
 "metadata": {
  "kernelspec": {
   "display_name": "Python 3",
   "language": "python",
   "name": "python3"
  },
  "language_info": {
   "codemirror_mode": {
    "name": "ipython",
    "version": 3
   },
   "file_extension": ".py",
   "mimetype": "text/x-python",
   "name": "python",
   "nbconvert_exporter": "python",
   "pygments_lexer": "ipython3",
   "version": "3.7.6"
  }
 },
 "nbformat": 4,
 "nbformat_minor": 2
}
