{
 "cells": [
  {
   "cell_type": "markdown",
   "metadata": {
    "colab_type": "text",
    "id": "oMYzsTcnHEll"
   },
   "source": [
    "# CSE110 Assignment 7\n",
    "\n",
    "\n",
    "## Write the Python code of the following problems:\n",
    "**<font color='red'>[MUST MAINTAIN VARIABLE NAMING CONVENTIONS FOR ALL THE TASKS]</font>**"
   ]
  },
  {
   "cell_type": "markdown",
   "metadata": {
    "colab_type": "text",
    "id": "jT-t2zlnHEll"
   },
   "source": [
    "### Task 1\n",
    "\n",
    "Given a list named my_list. <br/>\n",
    "my_list=[10,1,20,3,6,2,5,11,15,2,12,14,17,18,29] <br/>\n",
    "Now use bubble sort to sort my_list into ascending order.\n",
    "\n",
    "**Output**<br/>\n",
    "[1, 2, 2, 3, 5, 6, 10, 11, 12, 14, 15, 17, 18, 20, 29]"
   ]
  },
  {
   "cell_type": "code",
   "execution_count": 3,
   "metadata": {
    "colab": {},
    "colab_type": "code",
    "id": "7qXVakLgHElm"
   },
   "outputs": [
    {
     "name": "stdout",
     "output_type": "stream",
     "text": [
      "[1, 2, 2, 3, 5, 6, 10, 11, 12, 14, 15, 17, 18, 20, 29]\n"
     ]
    }
   ],
   "source": [
    "#todo\n",
    "my_list=[10,1,20,3,6,2,5,11,15,2,12,14,17,18,29]\n",
    "for i in range(len(my_list)-1,0,-1):\n",
    "    for j in range(i):\n",
    "        if my_list[j]>my_list[j+1]:\n",
    "            temp=my_list[j]\n",
    "            my_list[j]=my_list[j+1]\n",
    "            my_list[j+1]=temp\n",
    "print(my_list)\n"
   ]
  },
  {
   "cell_type": "markdown",
   "metadata": {
    "colab_type": "text",
    "id": "w1QgeWd2HElp"
   },
   "source": [
    "### Task 2\n",
    "\n",
    "Given a list named my_list. <br/>\n",
    "my_list=[10,1,20,3,6,2,5,11,15,2,12,14,17,18,29] <br/>\n",
    "Now use selection sort to sort my_list into ascending order.\n",
    "\n",
    "**Output**<br/>\n",
    "[1, 2, 2, 3, 5, 6, 10, 11, 12, 14, 15, 17, 18, 20, 29]\n",
    "\n"
   ]
  },
  {
   "cell_type": "code",
   "execution_count": 5,
   "metadata": {
    "colab": {},
    "colab_type": "code",
    "id": "am0B_8ICHElq"
   },
   "outputs": [
    {
     "name": "stdout",
     "output_type": "stream",
     "text": [
      "[1, 2, 2, 3, 5, 6, 10, 11, 12, 14, 15, 17, 18, 20, 29]\n"
     ]
    }
   ],
   "source": [
    "#todo\n",
    "x=[10,1,20,3,6,2,5,11,15,2,12,14,17,18,29]\n",
    "for i in range(len(x)):\n",
    "    for j in range(i+1,len(x)):\n",
    "        if x[j]<x[i]:\n",
    "            min=x[j]\n",
    "            temp=x[j]\n",
    "            x[j]=x[i]\n",
    "            x[i]=temp\n",
    "print(x)"
   ]
  },
  {
   "cell_type": "markdown",
   "metadata": {
    "colab_type": "text",
    "id": "j4ffr2CAHElt"
   },
   "source": [
    "### Task  3\n",
    "\n",
    "Given a list named my_list. <br/>\n",
    "my_list=[10,1,20,3,6,2,5,11,15,2,12,14,17,18,29] <br/>\n",
    "Now use any of the two sorts used above to sort the list in descending order.\n",
    "\n",
    "**Output**<br/>\n",
    "[29, 20, 18, 17, 15, 14, 12, 11, 10, 6, 5, 3, 2, 2, 1]\n"
   ]
  },
  {
   "cell_type": "code",
   "execution_count": 18,
   "metadata": {
    "colab": {},
    "colab_type": "code",
    "id": "n2X3YR-_HElt"
   },
   "outputs": [
    {
     "name": "stdout",
     "output_type": "stream",
     "text": [
      "[29, 20, 18, 17, 15, 14, 12, 11, 10, 6, 5, 3, 2, 2, 1]\n"
     ]
    }
   ],
   "source": [
    "#todo\n",
    "x=[10,1,20,3,6,2,5,11,15,2,12,14,17,18,29]\n",
    "for i in range(len(x)):\n",
    "    max=x[i]\n",
    "    max_index = i\n",
    "    for j in range(i+1,len(x)):\n",
    "        if x[j]>max:\n",
    "            max=x[j]\n",
    "            max_index=j\n",
    "            temp=x[max_index]\n",
    "            x[max_index]=x[i]\n",
    "            x[i]=temp\n",
    "print(x)"
   ]
  },
  {
   "cell_type": "markdown",
   "metadata": {
    "colab_type": "text",
    "id": "9iYiiTWWHElw"
   },
   "source": [
    "### Task 4\n",
    "\n",
    "Suppose you have a sitting arrangement of the students of the final exam in a list. The list contains the last two digits of their roll number.<br/>\n",
    "\n",
    "sitting_list=[10,30,20,70,11,15,22,16,58,100,12,56,70,80] <br/>\n",
    "\n",
    "Now you want to organize the sitting arrangement. You decided to sort all the students in the even indices into ascending order and all the students in the odd indices  into descending order.  <br/>\n",
    "\n",
    "So write a python program that organizes the list for you the way you decided.<br/>\n",
    "\n",
    "\n",
    "**Sample Output**<br/>\n",
    "[10, 100, 11, 80, 12, 70, 20, 56, 22, 30, 58, 16, 70, 15]"
   ]
  },
  {
   "cell_type": "code",
   "execution_count": 23,
   "metadata": {
    "colab": {},
    "colab_type": "code",
    "id": "nPdUAKDJHElw"
   },
   "outputs": [
    {
     "name": "stdout",
     "output_type": "stream",
     "text": [
      "[10, 100, 11, 80, 12, 70, 20, 56, 22, 30, 58, 16, 70, 15]\n"
     ]
    }
   ],
   "source": [
    "#todo\n",
    "organized_sits=[]\n",
    "\n",
    "even_index_value=[]\n",
    "\n",
    "odd_index_value=[]\n",
    "\n",
    "sitting_list=[10,30,20,70,11,15,22,16,58,100,12,56,70,80]\n",
    "\n",
    "for i in range(len(sitting_list)):\n",
    "    if i%2==0:\n",
    "        even_index_value.append(sitting_list[i])\n",
    "    else:\n",
    "        odd_index_value.append(sitting_list[i])\n",
    "sort_even=sorted(even_index_value)\n",
    "sort_odd=sorted(odd_index_value,reverse=True)\n",
    "\n",
    "for i in range(len(list)//2):\n",
    "    organized_sits.append(sort_even[i])\n",
    "    organized_sits.append(sort_odd[i])\n",
    "if len(sort_even)>len(sort_odd):     \n",
    "      organized_sits.append(sort_even[-1])   \n",
    "        \n",
    "                                  # odd index cannot be bigger than even index, because after even index we can \n",
    "print(organized_sits)             # write odd index. And even index can be bigger than odd index only one time because after \n",
    "                                  # one even index the next odd index wiil come.So, there will be no extra index.\n",
    "                                  # even index can be bigger only one.\n",
    "    "
   ]
  },
  {
   "cell_type": "markdown",
   "metadata": {
    "colab_type": "text",
    "id": "oVR1Tsa0HElz"
   },
   "source": [
    "### Task 5\n",
    "\n",
    "Suppose a list contains the final exam results of CSE110, PHY111, and MAT110 of each student in a listed form. Your task is to sort the list based on a course name that will be given by the user and print the names after sorting. <br/>\n",
    "\n",
    "For example, a list looks like <br/>\n",
    "Lst = [ [‘Farzad’,95,87,91] , [‘Mahjabin’,92,90,83], [‘Sadman’,87,92,80], [‘Nakhla’,85,94,90] ] <br/>\n",
    "where for each list, 1st index is name, 2nd index is CSE110, 3rd index is PHY111 and 4th index is MAT110. \n",
    "\n",
    "**Sample Input**<br/>\n",
    "MAT110\n",
    "\n",
    "**Sample Output**<br/>\n",
    "Farzad <br/>\n",
    "Nakhla <br/>\n",
    "Mahjabin <br/>\n",
    "Sadman\n",
    "\n",
    "**Hint:**<br/>\n",
    "Nested list can be accessed by listname[firstIndex][secondIndex] like lst[0][0] will give Farzad\n"
   ]
  },
  {
   "cell_type": "code",
   "execution_count": 1,
   "metadata": {
    "colab": {},
    "colab_type": "code",
    "id": "539b2P1NHElz"
   },
   "outputs": [
    {
     "name": "stdout",
     "output_type": "stream",
     "text": [
      "Enter Course Name:MAT110\n",
      "Farzad\n",
      "Nakhla\n",
      "Mahjabin\n",
      "Sadman\n"
     ]
    }
   ],
   "source": [
    "#todo\n",
    "\n",
    "n=input(\"Enter Course Name:\")\n",
    "list1=[]\n",
    "dict={}\n",
    "Lst = [ [\"Farzad\",95,87,91] , [\"Mahjabin\",92,90,83], [\"Sadman\",87,92,80], [\"Nakhla\",85,94,90] ]\n",
    "if n==\"MAT110\":\n",
    "    for i in Lst:\n",
    "        mark=i[-1]\n",
    "        list1.append(mark)\n",
    "        name=i[0]\n",
    "        dict[name]=mark\n",
    "if n==\"CSE110\":\n",
    "    for i in Lst:\n",
    "        mark=i[1]\n",
    "        list1.append(mark)\n",
    "        name=i[0]\n",
    "        dict[name]=mark\n",
    "if n==\"PHY111\":\n",
    "    for i in Lst:\n",
    "        mark=i[2]\n",
    "        list1.append(mark)\n",
    "        name=i[0]\n",
    "        dict[name]=mark\n",
    "list=sorted(list1,reverse=True)\n",
    "\n",
    "for i in list:\n",
    "    for key,value in dict.items():\n",
    "        if i==value:\n",
    "            print(key)"
   ]
  },
  {
   "cell_type": "markdown",
   "metadata": {
    "colab_type": "text",
    "id": "B0Rqbyi4HEl2"
   },
   "source": [
    "### Task 6\n",
    "\n",
    "Suppose you have a list named my_list. Your task is to sort the list and print the count of numbers that have changed their position. <br/>\n",
    "My_list = [4,2,3,1,6,5] <br/>\n",
    "Sorted list would be [1,2,3,4,5,6] where 4 numbers have changed their position.\n",
    "\n",
    "\n",
    "**Sample Output**<br/>\n",
    "4"
   ]
  },
  {
   "cell_type": "code",
   "execution_count": 4,
   "metadata": {
    "colab": {},
    "colab_type": "code",
    "id": "AMc8jAa7HEl2"
   },
   "outputs": [
    {
     "name": "stdout",
     "output_type": "stream",
     "text": [
      "4\n"
     ]
    }
   ],
   "source": [
    "#todo\n",
    "\n",
    "count=0\n",
    "dict1={}\n",
    "dict2={}\n",
    "my_list=[4,2,3,1,6,5]\n",
    "for i in range(len(my_list)):\n",
    "\n",
    "    name=(my_list[i])\n",
    "    value=(my_list.index(my_list[i]))\n",
    "    dict1[name]=value\n",
    "#print(dict1)\n",
    "new=sorted(my_list)\n",
    "for j in range(len(new)):\n",
    "\n",
    "    name2=(new[j])\n",
    "    value2=(new.index(new[j]))\n",
    "    dict2[name2]=value2\n",
    "#print(dict2)\n",
    "for i,j in dict1.items() and dict2.items():\n",
    "    if dict1[i]!=dict2[i]:      # if you cannot understand, then use pycharm to understand.\n",
    "        count=count+1\n",
    "print(count)"
   ]
  },
  {
   "cell_type": "markdown",
   "metadata": {
    "colab_type": "text",
    "id": "iIH5n0sJHEl5"
   },
   "source": [
    "### Task 7\n",
    "\n",
    "Write a python program that takes two lists from the user, sort the list, merge the two lists and find the median of the elements of the two lists.\n",
    "\n",
    "**Sample Input 1**<br/>\n",
    "list_one= [1,2,1,4] <br/>\n",
    "list_two= [5,4,1]\n",
    "\n",
    "\n",
    "**Sample Output 1**<br/>\n",
    "Sorted list= [1, 1, 1, 2, 4, 4, 5] <br/>\n",
    "Median = 2\n",
    "\n",
    "**Sample Input 2**<br/>\n",
    "list_one= [1,7,9,10] <br/>\n",
    "list_two= [2,7,6,5]\n",
    "\n",
    "\n",
    "**Sample Output 2**<br/>\n",
    "Sorted list=[1, 2, 5, 6, 7, 7, 9, 10] <br/>\n",
    "Median=6.5\n",
    "\n"
   ]
  },
  {
   "cell_type": "code",
   "execution_count": 20,
   "metadata": {
    "colab": {},
    "colab_type": "code",
    "id": "KsFxC7XbHEl6"
   },
   "outputs": [
    {
     "name": "stdout",
     "output_type": "stream",
     "text": [
      "Enter how many elements you want in list one:4\n",
      "Enter value:1\n",
      "Enter value:7\n",
      "Enter value:9\n",
      "Enter value:10\n",
      "Enter how many elements you want in list two:4\n",
      "Enter value:2\n",
      "Enter value:7\n",
      "Enter value:6\n",
      "Enter value:5\n",
      "Sorted list= [1, 2, 5, 6, 7, 7, 9, 10]\n",
      "Median= 6.5\n"
     ]
    }
   ],
   "source": [
    "#todo\n",
    "x=int(input(\"Enter how many elements you want in list one:\"))\n",
    "list_one=[]\n",
    "for i in range(x):\n",
    "    num1=int(input(\"Enter value:\"))\n",
    "    list_one.append(num1)\n",
    "    \n",
    "y=int(input(\"Enter how many elements you want in list two:\"))\n",
    "list_two=[]\n",
    "for j in range(y):\n",
    "    num2=int(input(\"Enter value:\"))\n",
    "    list_two.append(num2)\n",
    "\n",
    "for i in list_two:\n",
    "    list_one.append(i)\n",
    "sort=sorted(list_one)\n",
    "n=len(sort)\n",
    "if n%2==0:\n",
    "    median1=sort[n//2]\n",
    "    median2=sort[n//2-1]\n",
    "    median=(median1+median2)/2\n",
    "else:\n",
    "    median=sort[n//2]\n",
    "print(\"Sorted list=\",sort)\n",
    "print(\"Median=\",median)"
   ]
  },
  {
   "cell_type": "markdown",
   "metadata": {
    "colab_type": "text",
    "id": "-XKiwBR1HEl8"
   },
   "source": [
    "#### Task 8\n",
    "\n",
    "\n",
    "Write a python program that takes a list from user containing both positive and negative numbers. The program then finds two pairs of values whose summation is closest to zero.\n",
    "\n",
    "**Sample Input 1**<br/>\n",
    "list_one=[-10,15,2,4,-4,7,-8] \n",
    "\n",
    "\n",
    "**Sample Output 1**<br/>\n",
    "Two pairs which have the smallest sum = 4 and -4\n",
    "\n",
    "\n",
    "**Sample Input 2**<br/>\n",
    "list_one=[1,-8,4,-7,-20,26,70,-85]\n",
    "\n",
    "\n",
    "**Sample Output 2**<br/>\n",
    "Two pairs which have the smallest sum = 4 and -7"
   ]
  },
  {
   "cell_type": "code",
   "execution_count": 19,
   "metadata": {
    "colab": {},
    "colab_type": "code",
    "id": "5ORSGa5GHEl9"
   },
   "outputs": [
    {
     "name": "stdout",
     "output_type": "stream",
     "text": [
      "Enter how many elements you want in list:8\n",
      "Enter value:1\n",
      "Enter value:-8\n",
      "Enter value:4\n",
      "Enter value:-7\n",
      "Enter value:-20\n",
      "Enter value:26\n",
      "Enter value:70\n",
      "Enter value:-85\n",
      "Two pairs which have the smallest sum = 4 and -7\n"
     ]
    }
   ],
   "source": [
    "#todo\n",
    "x=int(input(\"Enter how many elements you want in list:\"))\n",
    "one=[]\n",
    "for i in range(x):\n",
    "    num=int(input(\"Enter value:\"))\n",
    "    one.append(num)\n",
    "\n",
    "list_of_sum=[]\n",
    "dict={}\n",
    "\n",
    "for i in range(len(one)-1):\n",
    "    sum=(one[i]+one[i+1])\n",
    "    if sum<0:\n",
    "        sum=(0-sum)\n",
    "    elif sum>=0:\n",
    "        sum=(0+sum)\n",
    "    numbers_for_sum = str(one[i])+\" and \"+str(one[i+1])\n",
    "\n",
    "    dict[sum]=numbers_for_sum\n",
    "    list_of_sum.append(sum)\n",
    "\n",
    "sort_list=sorted(list_of_sum)\n",
    "for j in sort_list:\n",
    "    if j in dict:\n",
    "        print(\"Two pairs which have the smallest sum =\",dict[j])\n",
    "        break\n"
   ]
  },
  {
   "cell_type": "code",
   "execution_count": null,
   "metadata": {},
   "outputs": [],
   "source": []
  }
 ],
 "metadata": {
  "colab": {
   "collapsed_sections": [],
   "name": "CSE110 Assignment 7 Questions.ipynb",
   "provenance": []
  },
  "kernelspec": {
   "display_name": "Python 3",
   "language": "python",
   "name": "python3"
  },
  "language_info": {
   "codemirror_mode": {
    "name": "ipython",
    "version": 3
   },
   "file_extension": ".py",
   "mimetype": "text/x-python",
   "name": "python",
   "nbconvert_exporter": "python",
   "pygments_lexer": "ipython3",
   "version": "3.7.6"
  }
 },
 "nbformat": 4,
 "nbformat_minor": 1
}
