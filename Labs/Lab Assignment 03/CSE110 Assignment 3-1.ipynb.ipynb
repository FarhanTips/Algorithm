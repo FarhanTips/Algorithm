{
 "cells": [
  {
   "cell_type": "markdown",
   "metadata": {
    "colab_type": "text",
    "id": "xDNsncrtU1yM"
   },
   "source": [
    "# CSE110 Assignment 3\n",
    "\n"
   ]
  },
  {
   "cell_type": "markdown",
   "metadata": {
    "colab_type": "text",
    "id": "gh4GUDaIU1yO"
   },
   "source": [
    "\n",
    "## Write the Python code of the following problems:\n",
    "\n",
    "**<font color='red'>[MUST MAINTAIN VARIABLE NAMING CONVENTIONS FOR ALL THE TASKS]</font>**\n",
    "\n",
    "## Part 1: String\n",
    "\n",
    "\n",
    "\n"
   ]
  },
  {
   "cell_type": "markdown",
   "metadata": {
    "colab_type": "text",
    "id": "KD4EKJf6U1yQ"
   },
   "source": [
    "### Task 1 \n",
    "\n",
    "Write a Python program that will ask the user to input a string (containing exactly one word). Then your program should print a subsequent substring of the given string.\n",
    "\n",
    "**Example1:**\\\n",
    "Input: BANGLA\\\n",
    "Output:\\\n",
    "B\\\n",
    "BA\\\n",
    "BAN\\\n",
    "BANG\\\n",
    "BANGL\\\n",
    "BANGLA\n",
    "\n",
    "**Example2:**\\\n",
    "Input: DREAM\\\n",
    "Output:\\\n",
    "D\\\n",
    "DR\\\n",
    "DRE\\\n",
    "DREA\\\n",
    "DREAM\n",
    "\n",
    "**Hints(1):** Need to use \"for loop\" for this task.\n",
    "\n",
    "**Hints(2):** Need to use print() function for prnting newlines.\n",
    "\n",
    "For example:\\\n",
    "print(1)\\\n",
    "print(2)\n",
    "\n",
    "Output:\\\n",
    "1\\\n",
    "2\n",
    "\n",
    "=====================================================================\n",
    "\n",
    "We need use print(end = \"\") to skip printing the additional newline.\n",
    "\n",
    "For example:\\\n",
    "print(1, end =\" \")\\\n",
    "print(2)\n",
    "\n",
    "Output:(prints the next output right to the previous one)\\\n",
    "12\n",
    "\n",
    "=====================================================================\n",
    "\n",
    "\n",
    "\n",
    "\n"
   ]
  },
  {
   "cell_type": "code",
   "execution_count": 1,
   "metadata": {
    "colab": {},
    "colab_type": "code",
    "id": "vJhpmj2XU1yR"
   },
   "outputs": [
    {
     "name": "stdout",
     "output_type": "stream",
     "text": [
      "Enter a string:DREAM\n",
      "D\n",
      "DR\n",
      "DRE\n",
      "DREA\n",
      "DREAM\n"
     ]
    }
   ],
   "source": [
    "x=input(\"Enter a string:\")\n",
    "length=len(x)\n",
    "for row in range(length):\n",
    "    for col in range(row+1):\n",
    "        print(x[col],end=\"\")\n",
    "    print()"
   ]
  },
  {
   "cell_type": "markdown",
   "metadata": {
    "colab_type": "text",
    "id": "1Zv__0ZWU1yd"
   },
   "source": [
    "### Task 2\n",
    "\n",
    "Write a Python program that will ask the user to enter two strings (s1, s2) as an input. Then create a mixed string with alternative characters from each string. Any leftover chars will be appended at the end of the result string.\n",
    "\n",
    "**Example 1:**\\\n",
    "Input:\\\n",
    "\"ABCD\"\\\n",
    "\"efgh\"\n",
    "\n",
    "Output:\\\n",
    "AeBfCgDh\n",
    "\n",
    "**Example 2:**\\\n",
    "Input:\\\n",
    "\"ABCDENDFGH\"\\\n",
    "\"ijkl\"\n",
    "\n",
    "Output:\\\n",
    "AiBjCkDlENDFGH\n",
    "\n",
    "**Example 3:**\\\n",
    "Input:\\\n",
    "\"ijkl\"\\\n",
    "\"ABCDENDFGH\"\n",
    "\n",
    "Output:\\\n",
    "iAjBkClDENDFGH\n",
    "\n",
    "*Hint: For adding the leftover characters use string slicing.*\n",
    "\n",
    "\n"
   ]
  },
  {
   "cell_type": "code",
   "execution_count": 2,
   "metadata": {
    "colab": {},
    "colab_type": "code",
    "id": "jUiv7ECJU1yd"
   },
   "outputs": [
    {
     "name": "stdout",
     "output_type": "stream",
     "text": [
      "Enter a string a:ijkl\n",
      "Enter a string b:ABCDENDFGH\n",
      "iAjBkClDENDFGH"
     ]
    }
   ],
   "source": [
    "a=str(input(\"Enter a string a:\"))\n",
    "lena=len(a)\n",
    "b=str(input(\"Enter a string b:\"))\n",
    "lenb=len(b)\n",
    "x=0\n",
    "if lena<lenb:\n",
    "    for i in range(x,lena):\n",
    "        print(a[i]+b[i],end=\"\")\n",
    "    print(b[lena:],end=\"\")\n",
    "else:\n",
    "    for i in range(x,lenb):\n",
    "        print(a[i]+b[i],end=\"\")\n",
    "    print(a[lenb:],end=\"\")"
   ]
  },
  {
   "cell_type": "markdown",
   "metadata": {
    "colab_type": "text",
    "id": "pbdeIVcyU1yi"
   },
   "source": [
    "### Task3\n",
    "\n",
    "Write a Python program that will ask the user to enter a  word as an input. If the length of the input string is less than 4, then your program should print the same string as an output. If the input string’s length is greater than 3, then your program should add “er” at the end of the input string. If the input string already ends with “er”, then add “est” instead. If the input string already ends with “est”, then your program should print the same string as an output.\n",
    "\n",
    "**Example 1:**\\\n",
    "Input: strong\\\n",
    "Output: stronger\n",
    "\n",
    "**Example 2:**\\\n",
    "Input: stronger\\\n",
    "Output: strongest\n",
    "\n",
    "**Example 3:**\\\n",
    "Input: strongest\\\n",
    "Output: strongest\n",
    "\n",
    "**Example 4:**\\\n",
    "Input: abc\\\n",
    "Output: abc\n"
   ]
  },
  {
   "cell_type": "code",
   "execution_count": 3,
   "metadata": {
    "colab": {},
    "colab_type": "code",
    "id": "A5df9pmJU1yj"
   },
   "outputs": [
    {
     "name": "stdout",
     "output_type": "stream",
     "text": [
      "Enter a word:strong\n",
      "stronger\n"
     ]
    }
   ],
   "source": [
    "a=input(\"Enter a word:\")\n",
    "length=len(a)\n",
    "b=\"er\"\n",
    "c=\"st\"\n",
    "\n",
    "if(length<4):\n",
    "    print(a)\n",
    "if (length>3):\n",
    "    if(a[-1]==\"r\") and (a[-2]==\"e\"):\n",
    "        print(a[0:-1]+c[:])\n",
    "    elif(a[-1]==\"t\") and (a[-2]==\"s\") and (a[-3]==\"e\"):\n",
    "        print(a)\n",
    "    else:\n",
    "        print(a[:]+b[:])"
   ]
  },
  {
   "cell_type": "markdown",
   "metadata": {
    "colab_type": "text",
    "id": "PsBbgc4YU1yp"
   },
   "source": [
    "### Task4\n",
    "\n",
    "Write a Python program that will ask the user to input a string (containing exactly one word). Then print code for each character in the String using the ord() function. Use any means necessary.\n",
    "\n",
    "To check if your program is working correctly or not, you can find a list of all correct values from the following website. Look at “Dec” and “Char” columns only, ignore other columns.\\\n",
    "link: http://www.asciitable.com/\n",
    "\n",
    "**Example 1:**\\\n",
    "Input: Programming\\\n",
    "Output:\\\n",
    "P : 80\\\n",
    "r : 114\\\n",
    "o : 111\\\n",
    "g : 103\\\n",
    "r : 114\\\n",
    "a : 97\\\n",
    "m : 109\\\n",
    "m : 109\\\n",
    "i : 105\\\n",
    "n : 110\\\n",
    "g : 103\n",
    "\n",
    "**Example 2:**\\\n",
    "Input: hunger\\\n",
    "Output:\\\n",
    "h : 104\\\n",
    "u : 117\\\n",
    "n : 110\\\n",
    "g : 103\\\n",
    "e : 101\\\n",
    "r : 114 "
   ]
  },
  {
   "cell_type": "code",
   "execution_count": 4,
   "metadata": {
    "colab": {},
    "colab_type": "code",
    "id": "r8by7ONZU1ys"
   },
   "outputs": [
    {
     "name": "stdout",
     "output_type": "stream",
     "text": [
      "Enter a word:Python\n",
      "P : 80\n",
      "y : 121\n",
      "t : 116\n",
      "h : 104\n",
      "o : 111\n",
      "n : 110\n"
     ]
    }
   ],
   "source": [
    "a=input(\"Enter a word:\")\n",
    "for i in a:\n",
    "    print(i,\":\",ord(i))"
   ]
  },
  {
   "cell_type": "markdown",
   "metadata": {
    "colab_type": "text",
    "id": "O8lIVppgU1yw"
   },
   "source": [
    "### Task5\n",
    "\n",
    "Given a word as input in small letters, print the next alphabet in sequence for each alphabet found in the input.\n",
    "\n",
    "**Example1:**\\\n",
    "Input: abcd\\\n",
    "Output: bcde\n",
    "\n",
    "**Example2:**\\\n",
    "Input: the cow\\\n",
    "Output: uif!dpx\n",
    "\n",
    "**Example3: <font color='red'>[Must fulfil this criteria]</font>**\\\n",
    "Input: xyzabc\\\n",
    "Output: yzabcd\n",
    "\n",
    "*Hint: You need to use functions ord() and chr(). The ASCII value of ‘a’ is 97 and ‘z’ is 122.*\n"
   ]
  },
  {
   "cell_type": "code",
   "execution_count": 5,
   "metadata": {
    "colab": {},
    "colab_type": "code",
    "id": "Hyvy8WNNU1yx"
   },
   "outputs": [
    {
     "name": "stdout",
     "output_type": "stream",
     "text": [
      "Enter a word:xyzabc\n",
      "yzabcd"
     ]
    }
   ],
   "source": [
    "a=input(\"Enter a word:\")\n",
    "for i in a:\n",
    "    if (i == 'z'):\n",
    "        print(chr(97),end=\"\")\n",
    "    else:\n",
    "        y=ord(i)\n",
    "        print(chr(y+1),end=\"\")"
   ]
  },
  {
   "cell_type": "markdown",
   "metadata": {
    "colab_type": "text",
    "id": "AWQJrJW3U1y3"
   },
   "source": [
    "### Task6\n",
    "Given a string, create a new string with all the consecutive duplicates removed. \n",
    "\n",
    "**Example:**\\\n",
    "Input:\\\n",
    "AAABBBBCDDBBECE\\\n",
    "Output:\\\n",
    "ABCDBECE\n",
    "\n",
    "*Hint: You need to make a new string to store your answer. Check whether the current character and the next character are the same, then add that character to the answer.*\n",
    "\n"
   ]
  },
  {
   "cell_type": "code",
   "execution_count": 3,
   "metadata": {
    "colab": {},
    "colab_type": "code",
    "id": "oNv_JNgUU1y4"
   },
   "outputs": [
    {
     "name": "stdout",
     "output_type": "stream",
     "text": [
      "Enter a string:AAABBBBCDDBBECE\n",
      "ABCDBECE\n"
     ]
    }
   ],
   "source": [
    "#Todo\n",
    "a=input(\"Enter a string:\")\n",
    "string=\"\"\n",
    "j=0\n",
    "for i in a:\n",
    "    if i!=j:\n",
    "        string=string+i\n",
    "        j=i\n",
    "print(string)"
   ]
  },
  {
   "cell_type": "markdown",
   "metadata": {
    "colab_type": "text",
    "id": "mwnPD6m-U1y9"
   },
   "source": [
    "## Part 2: List\n"
   ]
  },
  {
   "cell_type": "markdown",
   "metadata": {
    "colab_type": "text",
    "id": "lPoDvm8YU1y9"
   },
   "source": [
    "### Task 7\n",
    "Write a Python program that reads 10 numbers from the user. After reading each number, print all the numbers that have been entered so far. \n",
    "\n",
    "**Example:**\\\n",
    "After the user enters 3, prints “So far in the list: [3]”\\\n",
    "After the user enters 5, prints “So far in the list: [3, 5]”\\\n",
    "After the user enters 34, prints “So far in the list: [3, 5, 34]”\n"
   ]
  },
  {
   "cell_type": "code",
   "execution_count": 7,
   "metadata": {
    "colab": {},
    "colab_type": "code",
    "id": "z26BN9B3U1y_"
   },
   "outputs": [
    {
     "name": "stdout",
     "output_type": "stream",
     "text": [
      "Enter a number:3\n",
      "So far in the list: [3]\n",
      "Enter a number:5\n",
      "So far in the list: [3, 5]\n",
      "Enter a number:34\n",
      "So far in the list: [3, 5, 34]\n",
      "Enter a number:35\n",
      "So far in the list: [3, 5, 34, 35]\n",
      "Enter a number:40\n",
      "So far in the list: [3, 5, 34, 35, 40]\n",
      "Enter a number:45\n",
      "So far in the list: [3, 5, 34, 35, 40, 45]\n",
      "Enter a number:50\n",
      "So far in the list: [3, 5, 34, 35, 40, 45, 50]\n",
      "Enter a number:55\n",
      "So far in the list: [3, 5, 34, 35, 40, 45, 50, 55]\n",
      "Enter a number:60\n",
      "So far in the list: [3, 5, 34, 35, 40, 45, 50, 55, 60]\n",
      "Enter a number:65\n",
      "So far in the list: [3, 5, 34, 35, 40, 45, 50, 55, 60, 65]\n"
     ]
    }
   ],
   "source": [
    "x=10\n",
    "a=[]\n",
    "for i in range(x):\n",
    "    num=int(input(\"Enter a number:\"))\n",
    "    a.append(num) \n",
    "    print(\"So far in the list:\",a[:])"
   ]
  },
  {
   "cell_type": "markdown",
   "metadata": {
    "colab_type": "text",
    "id": "ZrjtT-I_U1zD"
   },
   "source": [
    "### Task 8\n",
    "Assume, you have been given a list.\n",
    "\n",
    "a_list =  [10, 20, 24, 25, 26, 35, 70]\n",
    "\n",
    "Write a Python program that creates a new list excluding the first and last two elements of the given list and prints the new list. \n",
    "\n",
    "Output: [24, 25, 26]\n",
    "\n",
    "\n",
    "*Hint:You need to use list slicing.*\n"
   ]
  },
  {
   "cell_type": "code",
   "execution_count": 8,
   "metadata": {
    "colab": {},
    "colab_type": "code",
    "id": "3r7Ripj7U1zE"
   },
   "outputs": [
    {
     "name": "stdout",
     "output_type": "stream",
     "text": [
      "Enter how many elements to you want in list:7\n",
      "Enter a number1:10\n",
      "Enter a number2:20\n",
      "Enter a number3:24\n",
      "Enter a number4:25\n",
      "Enter a number5:26\n",
      "Enter a number6:35\n",
      "Enter a number7:70\n",
      "[24, 25, 26]\n"
     ]
    }
   ],
   "source": [
    "x=int(input(\"Enter how many elements to you want in list:\"))\n",
    "a=[]\n",
    "for i in range(x):\n",
    "    num=int(input(\"Enter a number\" + str(i+1) + \":\"))\n",
    "    a.append(num)\n",
    "print(a[2:-2])"
   ]
  },
  {
   "cell_type": "markdown",
   "metadata": {
    "colab_type": "text",
    "id": "7a_1pYjfU1zI"
   },
   "source": [
    "### Task 9\n",
    "Assume, you have been given two lists. \n",
    "\n",
    "list_one = [1, 2, 3, 4, 5, 6, 7, 8, 9]\\\n",
    "list_two = [10, 11, 12, -13, -14, -15, -16]\n",
    "\n",
    "Write a Python program that creates a new list with all the even elements of both of the given lists and prints the new list.\n",
    "\n",
    "\n",
    "Output: [2, 4, 6, 8, 10, 12, -14, -16]\n",
    "\n",
    "*Hint: You need to create a third list to store the even elements of the given lists.*\n",
    "\n"
   ]
  },
  {
   "cell_type": "code",
   "execution_count": 9,
   "metadata": {
    "colab": {},
    "colab_type": "code",
    "id": "vToa7yazU1zI"
   },
   "outputs": [
    {
     "name": "stdout",
     "output_type": "stream",
     "text": [
      "Enter how many elements do you want in lista:9\n",
      "Enter a number:1\n",
      "Enter a number:2\n",
      "Enter a number:3\n",
      "Enter a number:4\n",
      "Enter a number:5\n",
      "Enter a number:6\n",
      "Enter a number:7\n",
      "Enter a number:8\n",
      "Enter a number:9\n",
      "Enter how many elements do you want in listb:7\n",
      "Enter number1i10\n",
      "Enter number2i11\n",
      "Enter number3i12\n",
      "Enter number4i-13\n",
      "Enter number5i-14\n",
      "Enter number6i-15\n",
      "Enter number7i-16\n",
      "[2, 4, 6, 8, 10, 12, -14, -16]\n"
     ]
    }
   ],
   "source": [
    "x=int(input(\"Enter how many elements do you want in lista:\"))\n",
    "a=[]\n",
    "for i in range(x):\n",
    "    num=int(input(\"Enter a number:\"))\n",
    "    a.append(num)\n",
    "y=int(input(\"Enter how many elements do you want in listb:\"))\n",
    "b=[]\n",
    "for i in range(y):\n",
    "    num=int(input(\"Enter number\" + str(i+1) + \"i\"))\n",
    "    b.append(num)\n",
    "c=[]\n",
    "for i in a:\n",
    "    if(i%2==0):\n",
    "        c.append(i)\n",
    "for y in b:\n",
    "    if(y%2==0):\n",
    "        c.append(y)\n",
    "print(c)"
   ]
  },
  {
   "cell_type": "markdown",
   "metadata": {
    "colab_type": "text",
    "id": "p5c2R-QeU1zO"
   },
   "source": [
    "### Task 10\n",
    "\n",
    "Assume, you have been given two lists.\\\n",
    "list_one = [1, 2 , 3, 2, 4, 5, 5, 7, 99, 200, 303, 70]\\\n",
    "list_two = [1, 1, 2, 3, 3, 3, 4, 5, 200, 500, -5]\n",
    "\n",
    "Write a Python program that creates a new list with all the unique elements of both the given lists. \n",
    "<font color='red'> **You need to make sure that no duplicates are in the result list**</font> and then finally print the result list.\n",
    "\n",
    "Output: \n",
    "[1, 2, 4, 5, 7, 99, 200, 303, 70, 3, 500, -5]\n",
    "\n",
    "*Hint:You need to create a third list to store the results. Use membership operators (in, not in) to make sure no duplicates are added.*\n",
    "\n"
   ]
  },
  {
   "cell_type": "code",
   "execution_count": 10,
   "metadata": {
    "colab": {},
    "colab_type": "code",
    "id": "EUbQbz5hU1zP"
   },
   "outputs": [
    {
     "name": "stdout",
     "output_type": "stream",
     "text": [
      "Enter how many elements do you want in lista1:7\n",
      "Enter a number1:10\n",
      "Enter a number2:10\n",
      "Enter a number3:20\n",
      "Enter a number4:30\n",
      "Enter a number5:40\n",
      "Enter a number6:40\n",
      "Enter a number7:50\n",
      "Enter how many elements do you want in listb:7\n",
      "Enter a number1:20\n",
      "Enter a number2:30\n",
      "Enter a number3:30\n",
      "Enter a number4:40\n",
      "Enter a number5:100\n",
      "Enter a number6:125\n",
      "Enter a number7:62\n",
      "[10, 20, 30, 40, 50, 100, 125, 62]\n"
     ]
    }
   ],
   "source": [
    "x=int(input(\"Enter how many elements do you want in lista1:\"))\n",
    "a1=[]\n",
    "a=[]\n",
    "for s in range(x):\n",
    "    numa1=int(input(\"Enter a number\"+ str(s+1) + \":\"))\n",
    "    a1.append(numa1)\n",
    "for s in a1:\n",
    "    if(s not in a):\n",
    "        a.append(s)\n",
    "y=int(input(\"Enter how many elements do you want in listb:\"))\n",
    "b1=[]\n",
    "b=[]\n",
    "for v in range(y):\n",
    "    numb1=int(input(\"Enter a number\" + str(v+1) + \":\"))\n",
    "    b1.append(numb1)\n",
    "for v in b1:\n",
    "    if(v not in b):\n",
    "        b.append(v)\n",
    "c=[]\n",
    "for i in a:\n",
    "    c.append(i)\n",
    "for j in b:\n",
    "    if j not in a:\n",
    "        c.append(j)\n",
    "print(c)"
   ]
  },
  {
   "cell_type": "markdown",
   "metadata": {
    "colab_type": "text",
    "id": "wfcSytFVU1zU"
   },
   "source": [
    "### Task 11\n",
    "\n",
    "Write a Python program that reads 5 numbers into a list and prints the largest number and its location on the list. <font color='red'>[You are not allowed to use the max() function here]</font>\n",
    "\n",
    "**Example:**\\\n",
    "Input: 7, 13, 2, 10, 6\\\n",
    "Output:\\\n",
    "“list: [7, 13, 2, 10, 6]”\\\n",
    "“Largest number 13 was found at location 1”.\n",
    "\n",
    "*Hint: Assume, the first input to be the largest value initially and the location of first input which is 0 to be the initial value of the largest value’s location.\n",
    "You need to be careful while printing the output. Depending on your code might need data conversion.*\n"
   ]
  },
  {
   "cell_type": "code",
   "execution_count": 11,
   "metadata": {
    "colab": {},
    "colab_type": "code",
    "id": "kXbEh1t3U1zV"
   },
   "outputs": [
    {
     "name": "stdout",
     "output_type": "stream",
     "text": [
      "Enter a number:7\n",
      "Enter a number:13\n",
      "Enter a number:2\n",
      "Enter a number:10\n",
      "Enter a number:6\n",
      "list: [7, 13, 2, 10, 6]\n",
      "Largest number 13 was found at location 1\n"
     ]
    }
   ],
   "source": [
    "x=5\n",
    "max=0\n",
    "a=[]\n",
    "for i in range(x):\n",
    "    num=int(input(\"Enter a number:\"))\n",
    "    a.append(num)\n",
    "\n",
    "    if(max is 0):\n",
    "        max=num\n",
    "    if (num>max):\n",
    "        max=num\n",
    "\n",
    "print(\"list:\", a)\n",
    "print(\"Largest number\",max,end=\" \")\n",
    "print(\"was found at location\",a.index(max))\n"
   ]
  },
  {
   "cell_type": "markdown",
   "metadata": {
    "colab_type": "text",
    "id": "lvSiLaobU1zY"
   },
   "source": [
    "### Task 12\n",
    "\n",
    "Write a Python program that reads 5 numbers into a list and prints the smallest and largest number and their location in the list. <font color='red'>[You are not allowed to use the max(), min(), sort(), sorted() function here]</font>\n",
    "\n",
    "**Example:**\\\n",
    "If the user enters 7, 13, -5, 10, 6 then your program should print\\\n",
    "“list: [7, 13, -5, 10, 6]”\\\n",
    "“Smallest number -5 was found at location 2”.\\\n",
    "“Largest number 13 was found at location 1”.\n",
    "\n",
    "*Hint: Assume, the first input to be the largest value and the location of the first input which is 0 to be the initial value of the largest value’s location. Similarly, assume the first input to be the smallest value and the location of the first input which is 0 to be the initial value of the smallest value’s location.\n",
    "You need to be careful while printing the output. Depending on your code might need data conversion.*\n"
   ]
  },
  {
   "cell_type": "code",
   "execution_count": 12,
   "metadata": {
    "colab": {},
    "colab_type": "code",
    "id": "yiS5TWSDU1zY"
   },
   "outputs": [
    {
     "name": "stdout",
     "output_type": "stream",
     "text": [
      "Enter a number:7\n",
      "Enter a number:13\n",
      "Enter a number:-5\n",
      "Enter a number:10\n",
      "Enter a number:6\n",
      "list: [7, 13, -5, 10, 6]\n",
      "Smallest number -5 was found at location 2\n",
      "Largest number 13 was found at location 1\n"
     ]
    }
   ],
   "source": [
    "x=5\n",
    "max=0\n",
    "min=0\n",
    "a=[]\n",
    "for i in range(x):\n",
    "    num=int(input(\"Enter a number:\"))\n",
    "    a.append(num)\n",
    "\n",
    "    if(max is 0):\n",
    "        max=num\n",
    "        min=num\n",
    "    if (num>max):\n",
    "        max=num\n",
    "    if (num<min):\n",
    "        min=num\n",
    "\n",
    "print(\"list:\", a)\n",
    "print(\"Smallest number\",min,end=\" \")\n",
    "print(\"was found at location\",a.index(min))\n",
    "print(\"Largest number\",max,end=\" \")\n",
    "print(\"was found at location\",a.index(max))"
   ]
  },
  {
   "cell_type": "code",
   "execution_count": 1,
   "metadata": {},
   "outputs": [
    {
     "name": "stdout",
     "output_type": "stream",
     "text": [
      "[3, 4, 3]\n"
     ]
    }
   ],
   "source": [
    "a=[1,2,3,4,3]\n",
    "print(a[2:])"
   ]
  },
  {
   "cell_type": "code",
   "execution_count": null,
   "metadata": {},
   "outputs": [],
   "source": []
  }
 ],
 "metadata": {
  "colab": {
   "name": "CSE110 Assignment03.ipynb",
   "provenance": []
  },
  "kernelspec": {
   "display_name": "Python 3",
   "language": "python",
   "name": "python3"
  },
  "language_info": {
   "codemirror_mode": {
    "name": "ipython",
    "version": 3
   },
   "file_extension": ".py",
   "mimetype": "text/x-python",
   "name": "python",
   "nbconvert_exporter": "python",
   "pygments_lexer": "ipython3",
   "version": "3.7.6"
  }
 },
 "nbformat": 4,
 "nbformat_minor": 1
}
